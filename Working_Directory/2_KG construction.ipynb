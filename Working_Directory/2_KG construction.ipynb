{
 "cells": [
  {
   "cell_type": "markdown",
   "metadata": {},
   "source": [
    "# Knowledge Graph Construction"
   ]
  },
  {
   "cell_type": "code",
   "execution_count": null,
   "metadata": {},
   "outputs": [],
   "source": [
    "! pip install pandas langchain_neo4j langchain_core langchain_ollama"
   ]
  },
  {
   "cell_type": "markdown",
   "metadata": {},
   "source": [
    "**Connection to Neo4j**"
   ]
  },
  {
   "cell_type": "code",
   "execution_count": 20,
   "metadata": {},
   "outputs": [
    {
     "name": "stdout",
     "output_type": "stream",
     "text": [
      "<langchain_neo4j.graphs.neo4j_graph.Neo4jGraph object at 0x00000221ABE48380>\n",
      "Connected to Neo4j graph.\n"
     ]
    }
   ],
   "source": [
    "# 1. Importing Required Libraries\n",
    "from neo4j import GraphDatabase\n",
    "from langchain_neo4j import Neo4jGraph\n",
    "\n",
    "# 2. Connect to Neo4j\n",
    "NEO4J_URI=\"neo4j+s://07561b92.databases.neo4j.io\"\n",
    "NEO4J_USERNAME=\"neo4j\"\n",
    "NEO4J_PASSWORD=\"2wQMIQq_1cANjkh837eMSHUsYBH2F-XLialhvPmM3Bw\"\n",
    "\n",
    "URI = NEO4J_URI\n",
    "AUTH = (NEO4J_USERNAME,NEO4J_PASSWORD) #AUTH = (\"<Username>\", \"<Password>\")\n",
    "with GraphDatabase.driver(URI, auth=AUTH) as driver:\n",
    "    driver.verify_connectivity()\n",
    "\n",
    "\n",
    "graph=Neo4jGraph(url=NEO4J_URI,username=NEO4J_USERNAME,password=NEO4J_PASSWORD)\n",
    "print(graph)\n",
    "print(\"Connected to Neo4j graph.\")"
   ]
  },
  {
   "cell_type": "markdown",
   "metadata": {},
   "source": [
    "**Clear the graph by removing all nodes & relations**"
   ]
  },
  {
   "cell_type": "code",
   "execution_count": 21,
   "metadata": {},
   "outputs": [
    {
     "name": "stdout",
     "output_type": "stream",
     "text": [
      "Suceesfully deleted all nodes and relations.\n"
     ]
    }
   ],
   "source": [
    "graph.query(\"\"\"MATCH (n) DETACH DELETE n   // Delete all existing nodes and relationships\"\"\")\n",
    "print(\"Suceesfully deleted all nodes and relations.\")"
   ]
  },
  {
   "cell_type": "markdown",
   "metadata": {},
   "source": [
    "**Load csv data**"
   ]
  },
  {
   "cell_type": "code",
   "execution_count": 22,
   "metadata": {},
   "outputs": [
    {
     "data": {
      "text/html": [
       "<div>\n",
       "<style scoped>\n",
       "    .dataframe tbody tr th:only-of-type {\n",
       "        vertical-align: middle;\n",
       "    }\n",
       "\n",
       "    .dataframe tbody tr th {\n",
       "        vertical-align: top;\n",
       "    }\n",
       "\n",
       "    .dataframe thead th {\n",
       "        text-align: right;\n",
       "    }\n",
       "</style>\n",
       "<table border=\"1\" class=\"dataframe\">\n",
       "  <thead>\n",
       "    <tr style=\"text-align: right;\">\n",
       "      <th></th>\n",
       "      <th>symptoms</th>\n",
       "      <th>prognosis</th>\n",
       "    </tr>\n",
       "  </thead>\n",
       "  <tbody>\n",
       "    <tr>\n",
       "      <th>0</th>\n",
       "      <td>itching, skin_rash, nodal_skin_eruptions, disc...</td>\n",
       "      <td>Fungal Infection</td>\n",
       "    </tr>\n",
       "    <tr>\n",
       "      <th>1</th>\n",
       "      <td>skin_rash, nodal_skin_eruptions, dischromic _p...</td>\n",
       "      <td>Fungal Infection</td>\n",
       "    </tr>\n",
       "    <tr>\n",
       "      <th>2</th>\n",
       "      <td>itching, nodal_skin_eruptions, dischromic _pat...</td>\n",
       "      <td>Fungal Infection</td>\n",
       "    </tr>\n",
       "    <tr>\n",
       "      <th>3</th>\n",
       "      <td>itching, skin_rash, dischromic _patches</td>\n",
       "      <td>Fungal Infection</td>\n",
       "    </tr>\n",
       "    <tr>\n",
       "      <th>4</th>\n",
       "      <td>itching, skin_rash, nodal_skin_eruptions</td>\n",
       "      <td>Fungal Infection</td>\n",
       "    </tr>\n",
       "  </tbody>\n",
       "</table>\n",
       "</div>"
      ],
      "text/plain": [
       "                                            symptoms         prognosis\n",
       "0  itching, skin_rash, nodal_skin_eruptions, disc...  Fungal Infection\n",
       "1  skin_rash, nodal_skin_eruptions, dischromic _p...  Fungal Infection\n",
       "2  itching, nodal_skin_eruptions, dischromic _pat...  Fungal Infection\n",
       "3            itching, skin_rash, dischromic _patches  Fungal Infection\n",
       "4           itching, skin_rash, nodal_skin_eruptions  Fungal Infection"
      ]
     },
     "execution_count": 22,
     "metadata": {},
     "output_type": "execute_result"
    }
   ],
   "source": [
    "import pandas as pd\n",
    "\n",
    "df=pd.read_csv(\"C:/Users/admin/OneDrive/Desktop/Symptoms_based_disease_prediction/Datasets/preprocessed_data.csv\")\n",
    "df.head()"
   ]
  },
  {
   "cell_type": "markdown",
   "metadata": {},
   "source": [
    "**Push data into KG**"
   ]
  },
  {
   "cell_type": "code",
   "execution_count": 24,
   "metadata": {},
   "outputs": [],
   "source": [
    "# 3. Seed the Database (Load data from CSV)\n",
    "for index, row in df.iterrows():\n",
    "    prognosis = row['prognosis']\n",
    "    symptoms = row['symptoms'].split(', ')\n",
    "\n",
    "    # Create or update disease node (prognosis)\n",
    "    graph.query(f\"\"\"MERGE (d:Disease {{name: \"{prognosis}\"}})\"\"\")\n",
    "\n",
    "    # Iterate over symptoms to create nodes and relationships\n",
    "    for symptom in symptoms:       \n",
    "        # Create or update symptom node                            \n",
    "        graph.query(f\"\"\"MERGE (s:Symptom {{name: \"{symptom}\"}}) \"\"\")         \n",
    "       \n",
    "        # Create or update relationship between symptom and disease\n",
    "        graph.query(f\"\"\"                    \n",
    "        MATCH (s:Symptom {{name: \"{symptom}\"}}), (d:Disease {{name: \"{prognosis}\"}})\n",
    "        MERGE (s)-[:HAS_SYMPTOM]->(d)\n",
    "        \"\"\")\n"
   ]
  },
  {
   "cell_type": "markdown",
   "metadata": {},
   "source": [
    "**Print Schema**"
   ]
  },
  {
   "cell_type": "code",
   "execution_count": 25,
   "metadata": {},
   "outputs": [
    {
     "name": "stdout",
     "output_type": "stream",
     "text": [
      "Node properties:\n",
      "Disease {name: STRING}\n",
      "Symptom {name: STRING}\n",
      "Relationship properties:\n",
      "\n",
      "The relationships:\n",
      "(:Symptom)-[:HAS_SYMPTOM]->(:Disease)\n"
     ]
    }
   ],
   "source": [
    "# 4. Refresh Schema (After inserting data, refresh the schema for changes)\n",
    "graph.refresh_schema()\n",
    "print(graph.schema)"
   ]
  },
  {
   "cell_type": "markdown",
   "metadata": {},
   "source": [
    "**KG check**"
   ]
  },
  {
   "cell_type": "code",
   "execution_count": 40,
   "metadata": {},
   "outputs": [
    {
     "data": {
      "text/plain": [
       "[{'Disease': 'Fungal Infection', 'MatchingSymptoms': 3},\n",
       " {'Disease': 'Drug Reaction', 'MatchingSymptoms': 2},\n",
       " {'Disease': 'Chickenpox', 'MatchingSymptoms': 2},\n",
       " {'Disease': 'Jaundice', 'MatchingSymptoms': 1},\n",
       " {'Disease': 'Chronic Cholestasis', 'MatchingSymptoms': 1}]"
      ]
     },
     "execution_count": 40,
     "metadata": {},
     "output_type": "execute_result"
    }
   ],
   "source": [
    "graph.query(\n",
    "\"\"\"\n",
    "MATCH (d:Disease)<-[:HAS_SYMPTOM]-(s:Symptom)\n",
    "WHERE s.name IN [\"itching\", \"skin_rash\", \"nodal_skin_eruptions\"]\n",
    "RETURN d.name AS Disease, COUNT(s) AS MatchingSymptoms\n",
    "ORDER BY MatchingSymptoms DESC\n",
    "LIMIT 5\n",
    "\n",
    "\"\"\")"
   ]
  }
 ],
 "metadata": {
  "kernelspec": {
   "display_name": "symp_venv",
   "language": "python",
   "name": "python3"
  },
  "language_info": {
   "codemirror_mode": {
    "name": "ipython",
    "version": 3
   },
   "file_extension": ".py",
   "mimetype": "text/x-python",
   "name": "python",
   "nbconvert_exporter": "python",
   "pygments_lexer": "ipython3",
   "version": "3.12.7"
  }
 },
 "nbformat": 4,
 "nbformat_minor": 2
}
