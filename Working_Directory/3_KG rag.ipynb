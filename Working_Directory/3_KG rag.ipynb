{
 "cells": [
  {
   "cell_type": "markdown",
   "metadata": {},
   "source": [
    "# KG Rag"
   ]
  },
  {
   "cell_type": "code",
   "execution_count": 1,
   "metadata": {},
   "outputs": [
    {
     "name": "stdout",
     "output_type": "stream",
     "text": [
      "Requirement already satisfied: pandas in c:\\users\\admin\\onedrive\\desktop\\symptoms_based_disease_prediction\\symp_venv\\lib\\site-packages (2.2.3)\n",
      "Requirement already satisfied: langchain_neo4j in c:\\users\\admin\\onedrive\\desktop\\symptoms_based_disease_prediction\\symp_venv\\lib\\site-packages (0.3.0)\n",
      "Requirement already satisfied: neo4j in c:\\users\\admin\\onedrive\\desktop\\symptoms_based_disease_prediction\\symp_venv\\lib\\site-packages (5.27.0)\n",
      "Requirement already satisfied: langchain_core in c:\\users\\admin\\onedrive\\desktop\\symptoms_based_disease_prediction\\symp_venv\\lib\\site-packages (0.3.31)\n",
      "Requirement already satisfied: langchain_ollama in c:\\users\\admin\\onedrive\\desktop\\symptoms_based_disease_prediction\\symp_venv\\lib\\site-packages (0.2.2)\n",
      "Requirement already satisfied: langchain_groq in c:\\users\\admin\\onedrive\\desktop\\symptoms_based_disease_prediction\\symp_venv\\lib\\site-packages (0.2.3)\n",
      "Requirement already satisfied: numpy>=1.26.0 in c:\\users\\admin\\onedrive\\desktop\\symptoms_based_disease_prediction\\symp_venv\\lib\\site-packages (from pandas) (2.2.2)\n",
      "Requirement already satisfied: python-dateutil>=2.8.2 in c:\\users\\admin\\onedrive\\desktop\\symptoms_based_disease_prediction\\symp_venv\\lib\\site-packages (from pandas) (2.9.0.post0)\n",
      "Requirement already satisfied: pytz>=2020.1 in c:\\users\\admin\\onedrive\\desktop\\symptoms_based_disease_prediction\\symp_venv\\lib\\site-packages (from pandas) (2024.2)\n",
      "Requirement already satisfied: tzdata>=2022.7 in c:\\users\\admin\\onedrive\\desktop\\symptoms_based_disease_prediction\\symp_venv\\lib\\site-packages (from pandas) (2025.1)\n",
      "Requirement already satisfied: langchain<0.4.0,>=0.3.7 in c:\\users\\admin\\onedrive\\desktop\\symptoms_based_disease_prediction\\symp_venv\\lib\\site-packages (from langchain_neo4j) (0.3.15)\n",
      "Requirement already satisfied: PyYAML>=5.3 in c:\\users\\admin\\onedrive\\desktop\\symptoms_based_disease_prediction\\symp_venv\\lib\\site-packages (from langchain_core) (6.0.2)\n",
      "Requirement already satisfied: jsonpatch<2.0,>=1.33 in c:\\users\\admin\\onedrive\\desktop\\symptoms_based_disease_prediction\\symp_venv\\lib\\site-packages (from langchain_core) (1.33)\n",
      "Requirement already satisfied: langsmith<0.4,>=0.1.125 in c:\\users\\admin\\onedrive\\desktop\\symptoms_based_disease_prediction\\symp_venv\\lib\\site-packages (from langchain_core) (0.2.11)\n",
      "Requirement already satisfied: packaging<25,>=23.2 in c:\\users\\admin\\onedrive\\desktop\\symptoms_based_disease_prediction\\symp_venv\\lib\\site-packages (from langchain_core) (24.2)\n",
      "Requirement already satisfied: pydantic<3.0.0,>=2.7.4 in c:\\users\\admin\\onedrive\\desktop\\symptoms_based_disease_prediction\\symp_venv\\lib\\site-packages (from langchain_core) (2.10.5)\n",
      "Requirement already satisfied: tenacity!=8.4.0,<10.0.0,>=8.1.0 in c:\\users\\admin\\onedrive\\desktop\\symptoms_based_disease_prediction\\symp_venv\\lib\\site-packages (from langchain_core) (9.0.0)\n",
      "Requirement already satisfied: typing-extensions>=4.7 in c:\\users\\admin\\onedrive\\desktop\\symptoms_based_disease_prediction\\symp_venv\\lib\\site-packages (from langchain_core) (4.12.2)\n",
      "Requirement already satisfied: ollama<1,>=0.4.4 in c:\\users\\admin\\onedrive\\desktop\\symptoms_based_disease_prediction\\symp_venv\\lib\\site-packages (from langchain_ollama) (0.4.6)\n",
      "Requirement already satisfied: groq<1,>=0.4.1 in c:\\users\\admin\\onedrive\\desktop\\symptoms_based_disease_prediction\\symp_venv\\lib\\site-packages (from langchain_groq) (0.15.0)\n",
      "Requirement already satisfied: anyio<5,>=3.5.0 in c:\\users\\admin\\onedrive\\desktop\\symptoms_based_disease_prediction\\symp_venv\\lib\\site-packages (from groq<1,>=0.4.1->langchain_groq) (4.8.0)\n",
      "Requirement already satisfied: distro<2,>=1.7.0 in c:\\users\\admin\\onedrive\\desktop\\symptoms_based_disease_prediction\\symp_venv\\lib\\site-packages (from groq<1,>=0.4.1->langchain_groq) (1.9.0)\n",
      "Requirement already satisfied: httpx<1,>=0.23.0 in c:\\users\\admin\\onedrive\\desktop\\symptoms_based_disease_prediction\\symp_venv\\lib\\site-packages (from groq<1,>=0.4.1->langchain_groq) (0.27.2)\n",
      "Requirement already satisfied: sniffio in c:\\users\\admin\\onedrive\\desktop\\symptoms_based_disease_prediction\\symp_venv\\lib\\site-packages (from groq<1,>=0.4.1->langchain_groq) (1.3.1)\n",
      "Requirement already satisfied: jsonpointer>=1.9 in c:\\users\\admin\\onedrive\\desktop\\symptoms_based_disease_prediction\\symp_venv\\lib\\site-packages (from jsonpatch<2.0,>=1.33->langchain_core) (3.0.0)\n",
      "Requirement already satisfied: SQLAlchemy<3,>=1.4 in c:\\users\\admin\\onedrive\\desktop\\symptoms_based_disease_prediction\\symp_venv\\lib\\site-packages (from langchain<0.4.0,>=0.3.7->langchain_neo4j) (2.0.37)\n",
      "Requirement already satisfied: aiohttp<4.0.0,>=3.8.3 in c:\\users\\admin\\onedrive\\desktop\\symptoms_based_disease_prediction\\symp_venv\\lib\\site-packages (from langchain<0.4.0,>=0.3.7->langchain_neo4j) (3.11.11)\n",
      "Requirement already satisfied: langchain-text-splitters<0.4.0,>=0.3.3 in c:\\users\\admin\\onedrive\\desktop\\symptoms_based_disease_prediction\\symp_venv\\lib\\site-packages (from langchain<0.4.0,>=0.3.7->langchain_neo4j) (0.3.5)\n",
      "Requirement already satisfied: requests<3,>=2 in c:\\users\\admin\\onedrive\\desktop\\symptoms_based_disease_prediction\\symp_venv\\lib\\site-packages (from langchain<0.4.0,>=0.3.7->langchain_neo4j) (2.32.3)\n",
      "Requirement already satisfied: orjson<4.0.0,>=3.9.14 in c:\\users\\admin\\onedrive\\desktop\\symptoms_based_disease_prediction\\symp_venv\\lib\\site-packages (from langsmith<0.4,>=0.1.125->langchain_core) (3.10.15)\n",
      "Requirement already satisfied: requests-toolbelt<2.0.0,>=1.0.0 in c:\\users\\admin\\onedrive\\desktop\\symptoms_based_disease_prediction\\symp_venv\\lib\\site-packages (from langsmith<0.4,>=0.1.125->langchain_core) (1.0.0)\n",
      "Requirement already satisfied: annotated-types>=0.6.0 in c:\\users\\admin\\onedrive\\desktop\\symptoms_based_disease_prediction\\symp_venv\\lib\\site-packages (from pydantic<3.0.0,>=2.7.4->langchain_core) (0.7.0)\n",
      "Requirement already satisfied: pydantic-core==2.27.2 in c:\\users\\admin\\onedrive\\desktop\\symptoms_based_disease_prediction\\symp_venv\\lib\\site-packages (from pydantic<3.0.0,>=2.7.4->langchain_core) (2.27.2)\n",
      "Requirement already satisfied: six>=1.5 in c:\\users\\admin\\onedrive\\desktop\\symptoms_based_disease_prediction\\symp_venv\\lib\\site-packages (from python-dateutil>=2.8.2->pandas) (1.17.0)\n",
      "Requirement already satisfied: aiohappyeyeballs>=2.3.0 in c:\\users\\admin\\onedrive\\desktop\\symptoms_based_disease_prediction\\symp_venv\\lib\\site-packages (from aiohttp<4.0.0,>=3.8.3->langchain<0.4.0,>=0.3.7->langchain_neo4j) (2.4.4)\n",
      "Requirement already satisfied: aiosignal>=1.1.2 in c:\\users\\admin\\onedrive\\desktop\\symptoms_based_disease_prediction\\symp_venv\\lib\\site-packages (from aiohttp<4.0.0,>=3.8.3->langchain<0.4.0,>=0.3.7->langchain_neo4j) (1.3.2)\n",
      "Requirement already satisfied: attrs>=17.3.0 in c:\\users\\admin\\onedrive\\desktop\\symptoms_based_disease_prediction\\symp_venv\\lib\\site-packages (from aiohttp<4.0.0,>=3.8.3->langchain<0.4.0,>=0.3.7->langchain_neo4j) (24.3.0)\n",
      "Requirement already satisfied: frozenlist>=1.1.1 in c:\\users\\admin\\onedrive\\desktop\\symptoms_based_disease_prediction\\symp_venv\\lib\\site-packages (from aiohttp<4.0.0,>=3.8.3->langchain<0.4.0,>=0.3.7->langchain_neo4j) (1.5.0)\n",
      "Requirement already satisfied: multidict<7.0,>=4.5 in c:\\users\\admin\\onedrive\\desktop\\symptoms_based_disease_prediction\\symp_venv\\lib\\site-packages (from aiohttp<4.0.0,>=3.8.3->langchain<0.4.0,>=0.3.7->langchain_neo4j) (6.1.0)\n",
      "Requirement already satisfied: propcache>=0.2.0 in c:\\users\\admin\\onedrive\\desktop\\symptoms_based_disease_prediction\\symp_venv\\lib\\site-packages (from aiohttp<4.0.0,>=3.8.3->langchain<0.4.0,>=0.3.7->langchain_neo4j) (0.2.1)\n",
      "Requirement already satisfied: yarl<2.0,>=1.17.0 in c:\\users\\admin\\onedrive\\desktop\\symptoms_based_disease_prediction\\symp_venv\\lib\\site-packages (from aiohttp<4.0.0,>=3.8.3->langchain<0.4.0,>=0.3.7->langchain_neo4j) (1.18.3)\n",
      "Requirement already satisfied: idna>=2.8 in c:\\users\\admin\\onedrive\\desktop\\symptoms_based_disease_prediction\\symp_venv\\lib\\site-packages (from anyio<5,>=3.5.0->groq<1,>=0.4.1->langchain_groq) (3.10)\n",
      "Requirement already satisfied: certifi in c:\\users\\admin\\onedrive\\desktop\\symptoms_based_disease_prediction\\symp_venv\\lib\\site-packages (from httpx<1,>=0.23.0->groq<1,>=0.4.1->langchain_groq) (2024.12.14)\n",
      "Requirement already satisfied: httpcore==1.* in c:\\users\\admin\\onedrive\\desktop\\symptoms_based_disease_prediction\\symp_venv\\lib\\site-packages (from httpx<1,>=0.23.0->groq<1,>=0.4.1->langchain_groq) (1.0.7)\n",
      "Requirement already satisfied: h11<0.15,>=0.13 in c:\\users\\admin\\onedrive\\desktop\\symptoms_based_disease_prediction\\symp_venv\\lib\\site-packages (from httpcore==1.*->httpx<1,>=0.23.0->groq<1,>=0.4.1->langchain_groq) (0.14.0)\n",
      "Requirement already satisfied: charset-normalizer<4,>=2 in c:\\users\\admin\\onedrive\\desktop\\symptoms_based_disease_prediction\\symp_venv\\lib\\site-packages (from requests<3,>=2->langchain<0.4.0,>=0.3.7->langchain_neo4j) (3.4.1)\n",
      "Requirement already satisfied: urllib3<3,>=1.21.1 in c:\\users\\admin\\onedrive\\desktop\\symptoms_based_disease_prediction\\symp_venv\\lib\\site-packages (from requests<3,>=2->langchain<0.4.0,>=0.3.7->langchain_neo4j) (2.3.0)\n",
      "Requirement already satisfied: greenlet!=0.4.17 in c:\\users\\admin\\onedrive\\desktop\\symptoms_based_disease_prediction\\symp_venv\\lib\\site-packages (from SQLAlchemy<3,>=1.4->langchain<0.4.0,>=0.3.7->langchain_neo4j) (3.1.1)\n"
     ]
    }
   ],
   "source": [
    "! pip install --upgrade pandas langchain_neo4j neo4j langchain_core langchain_ollama langchain_groq"
   ]
  },
  {
   "cell_type": "markdown",
   "metadata": {},
   "source": [
    "**Connection to constructed Neo4j graph**"
   ]
  },
  {
   "cell_type": "code",
   "execution_count": 2,
   "metadata": {},
   "outputs": [
    {
     "name": "stdout",
     "output_type": "stream",
     "text": [
      "<langchain_neo4j.graphs.neo4j_graph.Neo4jGraph object at 0x000001D6F6DA3770>\n",
      "Connected to Neo4j graph.\n"
     ]
    }
   ],
   "source": [
    "# 1. Importing Required Libraries\n",
    "from neo4j import GraphDatabase\n",
    "from langchain_neo4j import Neo4jGraph\n",
    "\n",
    "# 2. Connect to Neo4j\n",
    "NEO4J_URI=\"neo4j+s://07561b92.databases.neo4j.io\"\n",
    "NEO4J_USERNAME=\"neo4j\"\n",
    "NEO4J_PASSWORD=\"2wQMIQq_1cANjkh837eMSHUsYBH2F-XLialhvPmM3Bw\"\n",
    "\n",
    "URI = NEO4J_URI\n",
    "AUTH = (NEO4J_USERNAME,NEO4J_PASSWORD) #AUTH = (\"<Username>\", \"<Password>\")\n",
    "with GraphDatabase.driver(URI, auth=AUTH) as driver:\n",
    "    driver.verify_connectivity()\n",
    "\n",
    "\n",
    "graph=Neo4jGraph(url=NEO4J_URI,username=NEO4J_USERNAME,password=NEO4J_PASSWORD)\n",
    "print(graph)\n",
    "print(\"Connected to Neo4j graph.\")"
   ]
  },
  {
   "cell_type": "markdown",
   "metadata": {},
   "source": [
    "**Connectivity Check**"
   ]
  },
  {
   "cell_type": "code",
   "execution_count": 3,
   "metadata": {},
   "outputs": [
    {
     "data": {
      "text/plain": [
       "[{'Disease': 'Fungal Infection', 'MatchingSymptoms': 3},\n",
       " {'Disease': 'Drug Reaction', 'MatchingSymptoms': 2},\n",
       " {'Disease': 'Chickenpox', 'MatchingSymptoms': 2},\n",
       " {'Disease': 'Jaundice', 'MatchingSymptoms': 1},\n",
       " {'Disease': 'Chronic Cholestasis', 'MatchingSymptoms': 1}]"
      ]
     },
     "execution_count": 3,
     "metadata": {},
     "output_type": "execute_result"
    }
   ],
   "source": [
    "graph.query(\n",
    "\"\"\"\n",
    "MATCH (d:Disease)<-[:HAS_SYMPTOM]-(s:Symptom)\n",
    "WHERE s.name IN [\"itching\", \"skin_rash\", \"nodal_skin_eruptions\"]\n",
    "RETURN d.name AS Disease, COUNT(s) AS MatchingSymptoms\n",
    "ORDER BY MatchingSymptoms DESC\n",
    "LIMIT 5\n",
    "\n",
    "\"\"\")"
   ]
  },
  {
   "cell_type": "markdown",
   "metadata": {},
   "source": [
    "**LLM connection**"
   ]
  },
  {
   "cell_type": "code",
   "execution_count": 4,
   "metadata": {},
   "outputs": [],
   "source": [
    "import os\n",
    "from langchain_groq import ChatGroq\n",
    "\n",
    "# Set your Groq API key\n",
    "os.environ[\"GROQ_API_KEY\"] = \"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\"\n",
    "\n",
    "# Initialize the ChatGroq model\n",
    "llm = ChatGroq(\n",
    "    model=\"llama-3.3-70b-versatile\",\n",
    "    temperature=1,\n",
    "    max_tokens=1024,\n",
    ")\n"
   ]
  },
  {
   "cell_type": "markdown",
   "metadata": {},
   "source": [
    "**Connectivity Check**"
   ]
  },
  {
   "cell_type": "code",
   "execution_count": 5,
   "metadata": {},
   "outputs": [
    {
     "name": "stdout",
     "output_type": "stream",
     "text": [
      "Dr. Abdul Kalam was the 11th President of India, serving from 2002 to 2007, and a renowned scientist who played a crucial role in India's space and missile programs. He is often referred to as the \"Missile Man of India\" and is remembered for his inspirational leadership, humility, and contributions to the country's development.\n"
     ]
    }
   ],
   "source": [
    "# Define the conversation\n",
    "messages = [\n",
    "    (\"system\", \"You are a helpful assistant.\"),\n",
    "    (\"human\", \"Who is Abdul kalam in 2 lines?\"),\n",
    "]\n",
    "\n",
    "# Generate the response\n",
    "ai_msg = llm.invoke(messages)\n",
    "print(ai_msg.content)\n"
   ]
  },
  {
   "cell_type": "markdown",
   "metadata": {},
   "source": [
    "**Graph RAG: Neo4j Graph + LLM with Prompt for Cypher Query Generation**"
   ]
  },
  {
   "cell_type": "code",
   "execution_count": 6,
   "metadata": {},
   "outputs": [],
   "source": [
    "from langchain_neo4j import GraphCypherQAChain\n",
    "from langchain_ollama import ChatOllama\n",
    "from langchain_core.prompts.prompt import PromptTemplate\n",
    "\n",
    "# Define the schema and question\n",
    "schema = \"\"\"\n",
    "Nodes:\n",
    "- Disease: {name: string}\n",
    "- Symptom: {name: string}\n",
    "Relationships:\n",
    "- (Disease)-[:HAS_SYMPTOM]->(Symptom)\n",
    "\"\"\"\n",
    "\n",
    "question = \"What diseases are associated with itching, skin_rash, nodal_skin_eruptions?\"\n",
    "\n",
    "CYPHER_GENERATION_TEMPLATE = \"\"\"\n",
    "Task: Generate a Cypher statement to query a graph database.\n",
    "\n",
    "Instructions:\n",
    "Use only the provided relationship types and properties in the schema.\n",
    "Do not use any other relationship types or properties that are not provided.\n",
    "\n",
    "Schema:\n",
    "{schema}\n",
    "\n",
    "Note: Do not include any explanations or apologies in your responses.\n",
    "Do not respond to any questions that might ask anything else than for you to construct a Cypher statement.\n",
    "Do not include any text except the generated Cypher statement.\n",
    "\n",
    "Examples: \n",
    "# What diseases are associated with itching, skin_rash, nodal_skin_eruptions?\n",
    "MATCH (d:Disease)<-[:HAS_SYMPTOM]-(s:Symptom)\n",
    "WHERE s.name IN [\"itching\", \"skin_rash\", \"nodal_skin_eruptions\"]\n",
    "RETURN d.name AS Disease, COUNT(s) AS MatchingSymptoms\n",
    "ORDER BY MatchingSymptoms DESC\n",
    "LIMIT 5\n",
    "\n",
    "# What treatments are associated with fever and headache?\n",
    "MATCH (t:Treatment)<-[:TREATS]-(d:Disease)-[:HAS_SYMPTOM]->(s:Symptom)\n",
    "WHERE s.name IN [\"fever\", \"headache\"]\n",
    "RETURN t.name AS Treatment, COUNT(s) AS MatchingSymptoms\n",
    "ORDER BY MatchingSymptoms DESC\n",
    "\n",
    "# Which doctors are treating diseases related to fatigue and nausea?\n",
    "MATCH (doc:Doctor)-[:TREATS]->(d:Disease)-[:HAS_SYMPTOM]->(s:Symptom)\n",
    "WHERE s.name IN [\"fatigue\", \"nausea\"]\n",
    "RETURN doc.name AS Doctor, COUNT(s) AS MatchingSymptoms\n",
    "ORDER BY MatchingSymptoms DESC\n",
    "LIMIT 5\n",
    "\n",
    "The question is:\n",
    "{question}\"\"\"\n",
    "\n",
    "# # Initialize the LLM\n",
    "# llm = ChatOllama(model=\"deepseek-r1:1.5b\", temperature=1.5)\n",
    "\n",
    "# Create the prompt\n",
    "prompt = PromptTemplate(input_variables=[\"schema\", \"question\"], template=CYPHER_GENERATION_TEMPLATE)\n",
    "\n",
    "# Set up the GraphCypherQAChain\n",
    "chain = GraphCypherQAChain.from_llm(\n",
    "    llm=llm,\n",
    "    graph=graph,\n",
    "    cypher_prompt=prompt,\n",
    "    verbose=True,\n",
    "    allow_dangerous_requests=True\n",
    ")"
   ]
  },
  {
   "cell_type": "code",
   "execution_count": 7,
   "metadata": {},
   "outputs": [
    {
     "name": "stdout",
     "output_type": "stream",
     "text": [
      "\n",
      "\n",
      "\u001b[1m> Entering new GraphCypherQAChain chain...\u001b[0m\n",
      "Generated Cypher:\n",
      "\u001b[32;1m\u001b[1;3mMATCH (d:Disease)<-[:HAS_SYMPTOM]-(s:Symptom)\n",
      "WHERE s.name IN [\"itching\", \"skin_rash\", \"nodal_skin_eruptions\"]\n",
      "RETURN d.name AS Disease, COUNT(s) AS MatchingSymptoms\n",
      "ORDER BY MatchingSymptoms DESC\n",
      "LIMIT 5\u001b[0m\n",
      "Full Context:\n",
      "\u001b[32;1m\u001b[1;3m[{'Disease': 'Fungal Infection', 'MatchingSymptoms': 3}, {'Disease': 'Drug Reaction', 'MatchingSymptoms': 2}, {'Disease': 'Chickenpox', 'MatchingSymptoms': 2}, {'Disease': 'Jaundice', 'MatchingSymptoms': 1}, {'Disease': 'Chronic Cholestasis', 'MatchingSymptoms': 1}]\u001b[0m\n",
      "\n",
      "\u001b[1m> Finished chain.\u001b[0m\n",
      "{'query': 'What diseases are associated with itching, skin_rash, nodal_skin_eruptions?', 'result': 'Fungal Infection, Drug Reaction, and Chickenpox are associated with itching, skin_rash, nodal_skin_eruptions. Fungal Infection has the most matching symptoms, with 3 matches, followed by Drug Reaction and Chickenpox, each with 2 matching symptoms.'}\n"
     ]
    }
   ],
   "source": [
    "# 11. Invoke the Query Chain and Get the Result\n",
    "KG_response= chain.invoke({\"query\": question})\n",
    "\n",
    "# 12. Print the Result\n",
    "print(KG_response)"
   ]
  },
  {
   "cell_type": "markdown",
   "metadata": {},
   "source": [
    "# Agentic Rag"
   ]
  },
  {
   "cell_type": "code",
   "execution_count": 8,
   "metadata": {},
   "outputs": [
    {
     "name": "stdout",
     "output_type": "stream",
     "text": [
      "Requirement already satisfied: duckduckgo-search in c:\\users\\admin\\onedrive\\desktop\\symptoms_based_disease_prediction\\symp_venv\\lib\\site-packages (7.2.1)\n",
      "Requirement already satisfied: langchain_tools in c:\\users\\admin\\onedrive\\desktop\\symptoms_based_disease_prediction\\symp_venv\\lib\\site-packages (0.1.34)\n",
      "Requirement already satisfied: click>=8.1.7 in c:\\users\\admin\\onedrive\\desktop\\symptoms_based_disease_prediction\\symp_venv\\lib\\site-packages (from duckduckgo-search) (8.1.8)\n",
      "Requirement already satisfied: primp>=0.10.0 in c:\\users\\admin\\onedrive\\desktop\\symptoms_based_disease_prediction\\symp_venv\\lib\\site-packages (from duckduckgo-search) (0.10.1)\n",
      "Requirement already satisfied: lxml>=5.3.0 in c:\\users\\admin\\onedrive\\desktop\\symptoms_based_disease_prediction\\symp_venv\\lib\\site-packages (from duckduckgo-search) (5.3.0)\n",
      "Requirement already satisfied: langchain in c:\\users\\admin\\onedrive\\desktop\\symptoms_based_disease_prediction\\symp_venv\\lib\\site-packages (from langchain_tools) (0.3.15)\n",
      "Requirement already satisfied: langchain-community in c:\\users\\admin\\onedrive\\desktop\\symptoms_based_disease_prediction\\symp_venv\\lib\\site-packages (from langchain_tools) (0.3.15)\n",
      "Requirement already satisfied: langchain-openai in c:\\users\\admin\\onedrive\\desktop\\symptoms_based_disease_prediction\\symp_venv\\lib\\site-packages (from langchain_tools) (0.3.2)\n",
      "Requirement already satisfied: colorama in c:\\users\\admin\\onedrive\\desktop\\symptoms_based_disease_prediction\\symp_venv\\lib\\site-packages (from click>=8.1.7->duckduckgo-search) (0.4.6)\n",
      "Requirement already satisfied: PyYAML>=5.3 in c:\\users\\admin\\onedrive\\desktop\\symptoms_based_disease_prediction\\symp_venv\\lib\\site-packages (from langchain->langchain_tools) (6.0.2)\n",
      "Requirement already satisfied: SQLAlchemy<3,>=1.4 in c:\\users\\admin\\onedrive\\desktop\\symptoms_based_disease_prediction\\symp_venv\\lib\\site-packages (from langchain->langchain_tools) (2.0.37)\n",
      "Requirement already satisfied: aiohttp<4.0.0,>=3.8.3 in c:\\users\\admin\\onedrive\\desktop\\symptoms_based_disease_prediction\\symp_venv\\lib\\site-packages (from langchain->langchain_tools) (3.11.11)\n",
      "Requirement already satisfied: langchain-core<0.4.0,>=0.3.31 in c:\\users\\admin\\onedrive\\desktop\\symptoms_based_disease_prediction\\symp_venv\\lib\\site-packages (from langchain->langchain_tools) (0.3.31)\n",
      "Requirement already satisfied: langchain-text-splitters<0.4.0,>=0.3.3 in c:\\users\\admin\\onedrive\\desktop\\symptoms_based_disease_prediction\\symp_venv\\lib\\site-packages (from langchain->langchain_tools) (0.3.5)\n",
      "Requirement already satisfied: langsmith<0.4,>=0.1.17 in c:\\users\\admin\\onedrive\\desktop\\symptoms_based_disease_prediction\\symp_venv\\lib\\site-packages (from langchain->langchain_tools) (0.2.11)\n",
      "Requirement already satisfied: numpy<3,>=1.26.2 in c:\\users\\admin\\onedrive\\desktop\\symptoms_based_disease_prediction\\symp_venv\\lib\\site-packages (from langchain->langchain_tools) (2.2.2)\n",
      "Requirement already satisfied: pydantic<3.0.0,>=2.7.4 in c:\\users\\admin\\onedrive\\desktop\\symptoms_based_disease_prediction\\symp_venv\\lib\\site-packages (from langchain->langchain_tools) (2.10.5)\n",
      "Requirement already satisfied: requests<3,>=2 in c:\\users\\admin\\onedrive\\desktop\\symptoms_based_disease_prediction\\symp_venv\\lib\\site-packages (from langchain->langchain_tools) (2.32.3)\n",
      "Requirement already satisfied: tenacity!=8.4.0,<10,>=8.1.0 in c:\\users\\admin\\onedrive\\desktop\\symptoms_based_disease_prediction\\symp_venv\\lib\\site-packages (from langchain->langchain_tools) (9.0.0)\n",
      "Requirement already satisfied: dataclasses-json<0.7,>=0.5.7 in c:\\users\\admin\\onedrive\\desktop\\symptoms_based_disease_prediction\\symp_venv\\lib\\site-packages (from langchain-community->langchain_tools) (0.6.7)\n",
      "Requirement already satisfied: httpx-sse<0.5.0,>=0.4.0 in c:\\users\\admin\\onedrive\\desktop\\symptoms_based_disease_prediction\\symp_venv\\lib\\site-packages (from langchain-community->langchain_tools) (0.4.0)\n",
      "Requirement already satisfied: pydantic-settings<3.0.0,>=2.4.0 in c:\\users\\admin\\onedrive\\desktop\\symptoms_based_disease_prediction\\symp_venv\\lib\\site-packages (from langchain-community->langchain_tools) (2.7.1)\n",
      "Requirement already satisfied: openai<2.0.0,>=1.58.1 in c:\\users\\admin\\onedrive\\desktop\\symptoms_based_disease_prediction\\symp_venv\\lib\\site-packages (from langchain-openai->langchain_tools) (1.60.1)\n",
      "Requirement already satisfied: tiktoken<1,>=0.7 in c:\\users\\admin\\onedrive\\desktop\\symptoms_based_disease_prediction\\symp_venv\\lib\\site-packages (from langchain-openai->langchain_tools) (0.8.0)\n",
      "Requirement already satisfied: aiohappyeyeballs>=2.3.0 in c:\\users\\admin\\onedrive\\desktop\\symptoms_based_disease_prediction\\symp_venv\\lib\\site-packages (from aiohttp<4.0.0,>=3.8.3->langchain->langchain_tools) (2.4.4)\n",
      "Requirement already satisfied: aiosignal>=1.1.2 in c:\\users\\admin\\onedrive\\desktop\\symptoms_based_disease_prediction\\symp_venv\\lib\\site-packages (from aiohttp<4.0.0,>=3.8.3->langchain->langchain_tools) (1.3.2)\n",
      "Requirement already satisfied: attrs>=17.3.0 in c:\\users\\admin\\onedrive\\desktop\\symptoms_based_disease_prediction\\symp_venv\\lib\\site-packages (from aiohttp<4.0.0,>=3.8.3->langchain->langchain_tools) (24.3.0)\n",
      "Requirement already satisfied: frozenlist>=1.1.1 in c:\\users\\admin\\onedrive\\desktop\\symptoms_based_disease_prediction\\symp_venv\\lib\\site-packages (from aiohttp<4.0.0,>=3.8.3->langchain->langchain_tools) (1.5.0)\n",
      "Requirement already satisfied: multidict<7.0,>=4.5 in c:\\users\\admin\\onedrive\\desktop\\symptoms_based_disease_prediction\\symp_venv\\lib\\site-packages (from aiohttp<4.0.0,>=3.8.3->langchain->langchain_tools) (6.1.0)\n",
      "Requirement already satisfied: propcache>=0.2.0 in c:\\users\\admin\\onedrive\\desktop\\symptoms_based_disease_prediction\\symp_venv\\lib\\site-packages (from aiohttp<4.0.0,>=3.8.3->langchain->langchain_tools) (0.2.1)\n",
      "Requirement already satisfied: yarl<2.0,>=1.17.0 in c:\\users\\admin\\onedrive\\desktop\\symptoms_based_disease_prediction\\symp_venv\\lib\\site-packages (from aiohttp<4.0.0,>=3.8.3->langchain->langchain_tools) (1.18.3)\n",
      "Requirement already satisfied: marshmallow<4.0.0,>=3.18.0 in c:\\users\\admin\\onedrive\\desktop\\symptoms_based_disease_prediction\\symp_venv\\lib\\site-packages (from dataclasses-json<0.7,>=0.5.7->langchain-community->langchain_tools) (3.26.0)\n",
      "Requirement already satisfied: typing-inspect<1,>=0.4.0 in c:\\users\\admin\\onedrive\\desktop\\symptoms_based_disease_prediction\\symp_venv\\lib\\site-packages (from dataclasses-json<0.7,>=0.5.7->langchain-community->langchain_tools) (0.9.0)\n",
      "Requirement already satisfied: jsonpatch<2.0,>=1.33 in c:\\users\\admin\\onedrive\\desktop\\symptoms_based_disease_prediction\\symp_venv\\lib\\site-packages (from langchain-core<0.4.0,>=0.3.31->langchain->langchain_tools) (1.33)\n",
      "Requirement already satisfied: packaging<25,>=23.2 in c:\\users\\admin\\onedrive\\desktop\\symptoms_based_disease_prediction\\symp_venv\\lib\\site-packages (from langchain-core<0.4.0,>=0.3.31->langchain->langchain_tools) (24.2)\n",
      "Requirement already satisfied: typing-extensions>=4.7 in c:\\users\\admin\\onedrive\\desktop\\symptoms_based_disease_prediction\\symp_venv\\lib\\site-packages (from langchain-core<0.4.0,>=0.3.31->langchain->langchain_tools) (4.12.2)\n",
      "Requirement already satisfied: httpx<1,>=0.23.0 in c:\\users\\admin\\onedrive\\desktop\\symptoms_based_disease_prediction\\symp_venv\\lib\\site-packages (from langsmith<0.4,>=0.1.17->langchain->langchain_tools) (0.27.2)\n",
      "Requirement already satisfied: orjson<4.0.0,>=3.9.14 in c:\\users\\admin\\onedrive\\desktop\\symptoms_based_disease_prediction\\symp_venv\\lib\\site-packages (from langsmith<0.4,>=0.1.17->langchain->langchain_tools) (3.10.15)\n",
      "Requirement already satisfied: requests-toolbelt<2.0.0,>=1.0.0 in c:\\users\\admin\\onedrive\\desktop\\symptoms_based_disease_prediction\\symp_venv\\lib\\site-packages (from langsmith<0.4,>=0.1.17->langchain->langchain_tools) (1.0.0)\n",
      "Requirement already satisfied: anyio<5,>=3.5.0 in c:\\users\\admin\\onedrive\\desktop\\symptoms_based_disease_prediction\\symp_venv\\lib\\site-packages (from openai<2.0.0,>=1.58.1->langchain-openai->langchain_tools) (4.8.0)\n",
      "Requirement already satisfied: distro<2,>=1.7.0 in c:\\users\\admin\\onedrive\\desktop\\symptoms_based_disease_prediction\\symp_venv\\lib\\site-packages (from openai<2.0.0,>=1.58.1->langchain-openai->langchain_tools) (1.9.0)\n",
      "Requirement already satisfied: jiter<1,>=0.4.0 in c:\\users\\admin\\onedrive\\desktop\\symptoms_based_disease_prediction\\symp_venv\\lib\\site-packages (from openai<2.0.0,>=1.58.1->langchain-openai->langchain_tools) (0.8.2)\n",
      "Requirement already satisfied: sniffio in c:\\users\\admin\\onedrive\\desktop\\symptoms_based_disease_prediction\\symp_venv\\lib\\site-packages (from openai<2.0.0,>=1.58.1->langchain-openai->langchain_tools) (1.3.1)\n",
      "Requirement already satisfied: tqdm>4 in c:\\users\\admin\\onedrive\\desktop\\symptoms_based_disease_prediction\\symp_venv\\lib\\site-packages (from openai<2.0.0,>=1.58.1->langchain-openai->langchain_tools) (4.67.1)\n",
      "Requirement already satisfied: annotated-types>=0.6.0 in c:\\users\\admin\\onedrive\\desktop\\symptoms_based_disease_prediction\\symp_venv\\lib\\site-packages (from pydantic<3.0.0,>=2.7.4->langchain->langchain_tools) (0.7.0)\n",
      "Requirement already satisfied: pydantic-core==2.27.2 in c:\\users\\admin\\onedrive\\desktop\\symptoms_based_disease_prediction\\symp_venv\\lib\\site-packages (from pydantic<3.0.0,>=2.7.4->langchain->langchain_tools) (2.27.2)\n",
      "Requirement already satisfied: python-dotenv>=0.21.0 in c:\\users\\admin\\onedrive\\desktop\\symptoms_based_disease_prediction\\symp_venv\\lib\\site-packages (from pydantic-settings<3.0.0,>=2.4.0->langchain-community->langchain_tools) (1.0.1)\n",
      "Requirement already satisfied: charset-normalizer<4,>=2 in c:\\users\\admin\\onedrive\\desktop\\symptoms_based_disease_prediction\\symp_venv\\lib\\site-packages (from requests<3,>=2->langchain->langchain_tools) (3.4.1)\n",
      "Requirement already satisfied: idna<4,>=2.5 in c:\\users\\admin\\onedrive\\desktop\\symptoms_based_disease_prediction\\symp_venv\\lib\\site-packages (from requests<3,>=2->langchain->langchain_tools) (3.10)\n",
      "Requirement already satisfied: urllib3<3,>=1.21.1 in c:\\users\\admin\\onedrive\\desktop\\symptoms_based_disease_prediction\\symp_venv\\lib\\site-packages (from requests<3,>=2->langchain->langchain_tools) (2.3.0)\n",
      "Requirement already satisfied: certifi>=2017.4.17 in c:\\users\\admin\\onedrive\\desktop\\symptoms_based_disease_prediction\\symp_venv\\lib\\site-packages (from requests<3,>=2->langchain->langchain_tools) (2024.12.14)\n",
      "Requirement already satisfied: greenlet!=0.4.17 in c:\\users\\admin\\onedrive\\desktop\\symptoms_based_disease_prediction\\symp_venv\\lib\\site-packages (from SQLAlchemy<3,>=1.4->langchain->langchain_tools) (3.1.1)\n",
      "Requirement already satisfied: regex>=2022.1.18 in c:\\users\\admin\\onedrive\\desktop\\symptoms_based_disease_prediction\\symp_venv\\lib\\site-packages (from tiktoken<1,>=0.7->langchain-openai->langchain_tools) (2024.11.6)\n",
      "Requirement already satisfied: httpcore==1.* in c:\\users\\admin\\onedrive\\desktop\\symptoms_based_disease_prediction\\symp_venv\\lib\\site-packages (from httpx<1,>=0.23.0->langsmith<0.4,>=0.1.17->langchain->langchain_tools) (1.0.7)\n",
      "Requirement already satisfied: h11<0.15,>=0.13 in c:\\users\\admin\\onedrive\\desktop\\symptoms_based_disease_prediction\\symp_venv\\lib\\site-packages (from httpcore==1.*->httpx<1,>=0.23.0->langsmith<0.4,>=0.1.17->langchain->langchain_tools) (0.14.0)\n",
      "Requirement already satisfied: jsonpointer>=1.9 in c:\\users\\admin\\onedrive\\desktop\\symptoms_based_disease_prediction\\symp_venv\\lib\\site-packages (from jsonpatch<2.0,>=1.33->langchain-core<0.4.0,>=0.3.31->langchain->langchain_tools) (3.0.0)\n",
      "Requirement already satisfied: mypy-extensions>=0.3.0 in c:\\users\\admin\\onedrive\\desktop\\symptoms_based_disease_prediction\\symp_venv\\lib\\site-packages (from typing-inspect<1,>=0.4.0->dataclasses-json<0.7,>=0.5.7->langchain-community->langchain_tools) (1.0.0)\n"
     ]
    }
   ],
   "source": [
    "! pip install -U duckduckgo-search langchain_tools"
   ]
  },
  {
   "cell_type": "markdown",
   "metadata": {},
   "source": [
    "**DuckDuckGo Search Tool with LangChain for Disease Recommendation**"
   ]
  },
  {
   "cell_type": "code",
   "execution_count": 9,
   "metadata": {},
   "outputs": [
    {
     "name": "stderr",
     "output_type": "stream",
     "text": [
      "C:\\Users\\admin\\AppData\\Local\\Temp\\ipykernel_9344\\2619257943.py:18: LangChainDeprecationWarning: LangChain agents will continue to be supported, but it is recommended for new use cases to be built with LangGraph. LangGraph offers a more flexible and full-featured framework for building agents, including support for tool-calling, persistence of state, and human-in-the-loop workflows. For details, refer to the `LangGraph documentation <https://langchain-ai.github.io/langgraph/>`_ as well as guides for `Migrating from AgentExecutor <https://python.langchain.com/docs/how_to/migrate_agent/>`_ and LangGraph's `Pre-built ReAct agent <https://langchain-ai.github.io/langgraph/how-tos/create-react-agent/>`_.\n",
      "  agent = initialize_agent(\n"
     ]
    },
    {
     "name": "stdout",
     "output_type": "stream",
     "text": [
      "\n",
      "\n",
      "\u001b[1m> Entering new AgentExecutor chain...\u001b[0m\n",
      "\u001b[32;1m\u001b[1;3mTo recommend diseases based on the given symptoms, I should first search for diseases that are commonly associated with these symptoms. The symptoms provided are itching, skin rash, and nodal skin eruptions. \n",
      "\n",
      "Action: DuckDuckGo Search\n",
      "Action Input: {'query': 'diseases causing itching skin rash nodal skin eruptions', 'verbose': False, 'start_color': 'green', 'color': 'green', 'callbacks': None, 'tags': None, 'metadata': None, 'run_name': None, 'run_id': None, 'config': None, 'tool_call_id': None}\u001b[0m\n",
      "Observation: \u001b[36;1m\u001b[1;3ma rash that appears red, skin-colored, or darker than the natural skin color a rash that spreads from the face down the body 3-5 days after the first symptoms appear tiny white spots with bluish ... Itchy skin is an irritating sensation that makes you want to scratch. It's also called pruritus (proo-RIE-tus). Itchy skin is often caused by dry skin and is common in older adults, as skin tends to become drier with age. Depending on the cause of your itchiness, your skin may look no different than usual or it may be inflamed, rough or have bumps. Look out for signs of your skin changing color or hue, such as yellow or gray. Advertisement This type of itching ( uremic pruritus ) may be due to changes in your immune system or nerve issues. A rash is essentially inflammation in the skin that can be caused by either an external exposure or an internal factor,\" says Joshua Zeichner, M.D., director of cosmetic and clinical research in ... It gets its name because it presents as a red circular rash. Ringworm can occur anywhere on the body and is very itchy (athlete's foot and jock itch are types of ringworm). It's important to remember that a red circular rash can also be caused by Lyme disease. A health care provider can make sure this type of rash is properly diagnosed.\u001b[0m\n",
      "Thought:\u001b[32;1m\u001b[1;3mBased on the observation, it seems that the search results provide some information about diseases that could be associated with itching, skin rash, and nodal skin eruptions. However, the results appear to be somewhat general and do not provide a specific list of diseases that match all of the given symptoms.\n",
      "\n",
      "Action: DuckDuckGo Search\n",
      "Action Input: {'query': 'diseases with itching skin rash and nodal skin eruptions', 'verbose': False, 'start_color': 'green', 'color': 'green', 'callbacks': None, 'tags': None, 'metadata': None, 'run_name': None, 'run_id': None, 'config': None, 'tool_call_id': None}\u001b[0m\n",
      "Observation: \u001b[36;1m\u001b[1;3mA rash is any area of irritated or swollen skin. Rashes may be itchy and painful and appear differently on different skin tones. In some cases, a rash may be a sign of a medical emergency. What it looks like: Poison ivy is a type of allergic contact dermatitis that is caused by the oil (urushiol oil) in the poison ivy plant, explains Karan Lal, D.O., M.S., F.A.A.D., double board ... Allergies. Some people's eczema flares up due to allergens such as pet dander and dust mites.But lots of things can trigger eczema, including certain fabrics, soaps, and detergents. It gets its name because it presents as a red circular rash. Ringworm can occur anywhere on the body and is very itchy (athlete's foot and jock itch are types of ringworm). It's important to remember that a red circular rash can also be caused by Lyme disease. A health care provider can make sure this type of rash is properly diagnosed. Staphylococcal scalded skin syndrome (SSS) All of these diseases have one or more of the following features: The rash affects the entire body, or most of it. The rash affects both the skin and the ...\u001b[0m\n",
      "Thought:\u001b[32;1m\u001b[1;3mBased on the observation, it seems that the search results provide some information about diseases that could be associated with itching, skin rash, and nodal skin eruptions. The results mention several diseases, including poison ivy, eczema, ringworm, and Lyme disease, which can cause a rash and itching. Additionally, Staphylococcal scalded skin syndrome (SSS) is mentioned, which can cause a rash that affects the entire body.\n",
      "\n",
      "Action: DuckDuckGo Search\n",
      "Action Input: {'query': 'diseases with itching skin rash nodal skin eruptions symptoms', 'verbose': False, 'start_color': 'green', 'color': 'green', 'callbacks': None, 'tags': None, 'metadata': None, 'run_name': None, 'run_id': None, 'config': None, 'tool_call_id': None}\u001b[0m\n",
      "Observation: \u001b[36;1m\u001b[1;3mLearn about Prurigo Nodularis, including symptoms, causes, and treatments. If you or a loved one is affected by this condition, visit NORD to find resources A rash is any area of irritated or swollen skin. Rashes may be itchy and painful and appear differently on different skin tones. In some cases, a rash may be a sign of a medical emergency. It's a rare but dramatic skin problem with a relentless itch and hard lumps all over your body. Learn about prurigo nodularis and how to get relief. 30 Pictures of Common Skin Rashes and How to Identify Their Symptoms Prurigo nodularis is a condition of extremely itchy papules (small, solid bumps) or nodules (solid, raised bumps that are firm to the touch) on the skin that may have a scab from scratching or picking. The lesions range in size but are generally smaller than a thumbnail. They can enlarge slowl…\u001b[0m\n",
      "Thought:\u001b[32;1m\u001b[1;3mBased on the observation, it seems that the search results provide some information about diseases that could be associated with itching, skin rash, and nodal skin eruptions. The results mention Prurigo Nodularis, a condition characterized by extremely itchy papules or nodules on the skin, which may have a scab from scratching or picking. This condition appears to match all of the given symptoms.\n",
      "\n",
      "Thought: I now know the final answer\n",
      "Final Answer: Based on the symptoms of itching, skin rash, and nodal skin eruptions, some possible diseases that may be associated with these symptoms include Prurigo Nodularis, poison ivy, eczema, ringworm, Lyme disease, and Staphylococcal scalded skin syndrome (SSS). However, it's essential to consult a healthcare professional for a proper diagnosis and treatment.\u001b[0m\n",
      "\n",
      "\u001b[1m> Finished chain.\u001b[0m\n",
      "Based on the symptoms of itching, skin rash, and nodal skin eruptions, some possible diseases that may be associated with these symptoms include Prurigo Nodularis, poison ivy, eczema, ringworm, Lyme disease, and Staphylococcal scalded skin syndrome (SSS). However, it's essential to consult a healthcare professional for a proper diagnosis and treatment.\n"
     ]
    }
   ],
   "source": [
    "# Import necessary modules\n",
    "from langchain.agents import initialize_agent, Tool, AgentType\n",
    "from langchain_community.tools import DuckDuckGoSearchRun\n",
    "\n",
    "# Initialize DuckDuckGo search tool\n",
    "ddg_search = DuckDuckGoSearchRun()\n",
    "\n",
    "# Define the tools the agent can use\n",
    "tools = [\n",
    "    Tool(\n",
    "        name=\"DuckDuckGo Search\",\n",
    "        func=ddg_search.run,\n",
    "        description=\"Search for diseases based on symptoms using DuckDuckGo\"\n",
    "    )\n",
    "]\n",
    "\n",
    "# Initialize the agent with Zero-Shot-React-Description agent type\n",
    "agent = initialize_agent(\n",
    "    llm=llm,\n",
    "    tools=tools,\n",
    "    agent_type=AgentType.ZERO_SHOT_REACT_DESCRIPTION,\n",
    "    verbose=True\n",
    ")\n",
    "\n",
    "# Define the symptoms\n",
    "symptoms = \"itching, skin rash, nodal skin eruptions\"\n",
    "\n",
    "# Query the agent to recommend diseases based on the symptoms\n",
    "Agent_response = agent.invoke(f\"Recommend diseases based on the following symptoms: {symptoms}\")\n",
    "\n",
    "print(Agent_response['output'])"
   ]
  },
  {
   "cell_type": "markdown",
   "metadata": {},
   "source": [
    "# KG Rag response + Agentic Rag Response"
   ]
  },
  {
   "cell_type": "code",
   "execution_count": 10,
   "metadata": {},
   "outputs": [
    {
     "name": "stderr",
     "output_type": "stream",
     "text": [
      "c:\\Users\\admin\\OneDrive\\Desktop\\Symptoms_based_disease_prediction\\symp_venv\\Lib\\site-packages\\langchain_groq\\chat_models.py:364: UserWarning: WARNING! stream is not default parameter.\n",
      "                    stream was transferred to model_kwargs.\n",
      "                    Please confirm that stream is what you intended.\n",
      "  warnings.warn(\n"
     ]
    },
    {
     "name": "stdout",
     "output_type": "stream",
     "text": [
      "After refining and merging the responses, here are the results:\n",
      "\n",
      "Associated Diseases:\n",
      "1. Fungal Infection (e.g., ringworm)\n",
      "2. Prurigo Nodularis\n",
      "3. Eczema\n",
      "4. Lyme disease\n",
      "5. Staphylococcal scalded skin syndrome (SSS)\n",
      "6. Poison ivy (contact dermatitis)\n",
      "\n",
      "These diseases are associated with the symptoms of itching, skin rash, and nodal skin eruptions, prioritized based on severity and commonality.\n",
      "\n",
      "Healthy Diet:\n",
      "To manage or alleviate symptoms, consider the following dietary recommendations:\n",
      "- Consume: omega-3 rich foods (salmon, flaxseeds), probiotics (yogurt, kefir), vitamin E-rich foods (nuts, seeds), and antioxidant-rich foods (berries, leafy greens)\n",
      "- Avoid: processed foods, sugary drinks, dairy products (for some individuals with eczema or sensitive skin), and foods high in histamine (fermented foods, citrus fruits)\n",
      "\n",
      "Natural Techniques or Exercises:\n",
      "Complement medical treatment with these safe and easy natural techniques:\n",
      "- Moisturize skin regularly\n",
      "- Apply cool compresses to reduce itching\n",
      "- Practice stress-reducing exercises (yoga, meditation, deep breathing)\n",
      "- Get regular exercise (outdoor activities, walking) to improve overall health\n",
      "\n",
      "Recommended Doctor or Specialist:\n",
      "Consult a:\n",
      "- Dermatologist (skin specialist) for accurate diagnosis and treatment of skin-related conditions\n",
      "- Infectious disease specialist (for Lyme disease or fungal infections)\n",
      "- Primary care physician (for general health and referral to specialists)\n",
      "\n",
      "These recommendations aim to provide a comprehensive approach to managing symptoms and seeking medical attention. Remember, it's essential to consult a healthcare professional for a proper diagnosis and treatment plan."
     ]
    }
   ],
   "source": [
    "import os\n",
    "import re\n",
    "from langchain_groq import ChatGroq\n",
    "\n",
    "# Set your Groq API key\n",
    "os.environ[\"GROQ_API_KEY\"] = \"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\"\n",
    "\n",
    "# Initialize the ChatGroq model\n",
    "llm = ChatGroq(\n",
    "    model=\"llama-3.3-70b-versatile\",\n",
    "    temperature=1,\n",
    "    max_tokens=1024,\n",
    "    stream=True\n",
    ")\n",
    "\n",
    "# Define the conversation\n",
    "messages = [\n",
    "    (\"system\", \"You are a highly knowledgeable and detail-oriented medical assistant with the ability to critically analyze responses for errors and inconsistencies.\"),\n",
    "    (\"human\", f\"I have two sets of responses related to symptoms:\\n\"\n",
    "              f\"1. Knowledge Graph Response: {KG_response}\\n\"\n",
    "              f\"2. Web Search Response: {Agent_response}\\n\"\n",
    "              f\"\\n\"\n",
    "              f\"Please follow these steps to refine and merge the responses:\\n\"\n",
    "              f\"1. Review both responses for mistakes, inconsistencies, and redundant diseases. Ensure no disease is listed more than once and prioritize based on severity and commonality.\\n\"\n",
    "              f\"2. Suggest a healthy diet to manage or alleviate the symptoms. Include specific foods and drinks to consume and avoid.\\n\"\n",
    "              f\"3. Recommend safe and easy natural techniques or exercises that can complement medical treatment.\\n\"\n",
    "              f\"4. Specify the type of doctor or specialist to consult and provide a brief reason for each recommendation.\\n\"\n",
    "              f\"\\n\"\n",
    "              f\"After reviewing and enhancing the responses, follow these steps:\\n\"\n",
    "              f\"    1. List all associated diseases, eliminating duplicates and prioritizing based on severity.\\n\"\n",
    "              f\"    2. Suggest a healthy diet, including specific foods to consume and avoid.\\n\"\n",
    "              f\"    3. Recommend natural techniques or exercises that are easy and safe.\\n\"\n",
    "              f\"    4. Specify the type of doctor or specialist to consult with a brief reason.\\n\"\n",
    "              f\"Ensure the response is clear, concise, and easy to understand.\"),\n",
    "]\n",
    "\n",
    "# # Generate the response\n",
    "# for chunk in llm.stream(messages):\n",
    "#     print(chunk.content, end='', flush=True)\n",
    "\n",
    "# Stream and clean markdown on the fly\n",
    "for chunk in llm.stream(messages):\n",
    "    cleaned_chunk = re.sub(r'(\\*\\*|\\*|__|_|\\[.*?\\]\\(.*?\\))', '', chunk.content)\n",
    "    print(cleaned_chunk, end='', flush=True)"
   ]
  },
  {
   "cell_type": "code",
   "execution_count": null,
   "metadata": {},
   "outputs": [],
   "source": []
  }
 ],
 "metadata": {
  "kernelspec": {
   "display_name": "symp_venv",
   "language": "python",
   "name": "python3"
  },
  "language_info": {
   "codemirror_mode": {
    "name": "ipython",
    "version": 3
   },
   "file_extension": ".py",
   "mimetype": "text/x-python",
   "name": "python",
   "nbconvert_exporter": "python",
   "pygments_lexer": "ipython3",
   "version": "3.12.7"
  }
 },
 "nbformat": 4,
 "nbformat_minor": 2
}
