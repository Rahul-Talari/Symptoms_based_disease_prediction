{
 "cells": [
  {
   "cell_type": "markdown",
   "metadata": {},
   "source": [
    "# KG Rag"
   ]
  },
  {
   "cell_type": "code",
   "execution_count": null,
   "metadata": {},
   "outputs": [],
   "source": [
    "! pip install --upgrade pandas langchain_neo4j neo4j langchain_core langchain_ollama langchain_groq"
   ]
  },
  {
   "cell_type": "markdown",
   "metadata": {},
   "source": [
    "**Connection to constructed Neo4j graph**"
   ]
  },
  {
   "cell_type": "code",
   "execution_count": 39,
   "metadata": {},
   "outputs": [
    {
     "name": "stdout",
     "output_type": "stream",
     "text": [
      "<langchain_neo4j.graphs.neo4j_graph.Neo4jGraph object at 0x0000021430FCF5F0>\n",
      "Connected to Neo4j graph.\n"
     ]
    }
   ],
   "source": [
    "# 1. Importing Required Libraries\n",
    "from neo4j import GraphDatabase\n",
    "from langchain_neo4j import Neo4jGraph\n",
    "\n",
    "# 2. Connect to Neo4j\n",
    "NEO4J_URI=\"neo4j+s://07561b92.databases.neo4j.io\"\n",
    "NEO4J_USERNAME=\"neo4j\"\n",
    "NEO4J_PASSWORD=\"2wQMIQq_1cANjkh837eMSHUsYBH2F-XLialhvPmM3Bw\"\n",
    "\n",
    "URI = NEO4J_URI\n",
    "AUTH = (NEO4J_USERNAME,NEO4J_PASSWORD) #AUTH = (\"<Username>\", \"<Password>\")\n",
    "with GraphDatabase.driver(URI, auth=AUTH) as driver:\n",
    "    driver.verify_connectivity()\n",
    "\n",
    "\n",
    "graph=Neo4jGraph(url=NEO4J_URI,username=NEO4J_USERNAME,password=NEO4J_PASSWORD)\n",
    "print(graph)\n",
    "print(\"Connected to Neo4j graph.\")"
   ]
  },
  {
   "cell_type": "markdown",
   "metadata": {},
   "source": [
    "**Connectivity Check**"
   ]
  },
  {
   "cell_type": "code",
   "execution_count": 40,
   "metadata": {},
   "outputs": [
    {
     "data": {
      "text/plain": [
       "[{'Disease': 'Fungal Infection', 'MatchingSymptoms': 3},\n",
       " {'Disease': 'Drug Reaction', 'MatchingSymptoms': 2},\n",
       " {'Disease': 'Chickenpox', 'MatchingSymptoms': 2},\n",
       " {'Disease': 'Jaundice', 'MatchingSymptoms': 1},\n",
       " {'Disease': 'Chronic Cholestasis', 'MatchingSymptoms': 1}]"
      ]
     },
     "execution_count": 40,
     "metadata": {},
     "output_type": "execute_result"
    }
   ],
   "source": [
    "graph.query(\n",
    "\"\"\"\n",
    "MATCH (d:Disease)<-[:HAS_SYMPTOM]-(s:Symptom)\n",
    "WHERE s.name IN [\"itching\", \"skin_rash\", \"nodal_skin_eruptions\"]\n",
    "RETURN d.name AS Disease, COUNT(s) AS MatchingSymptoms\n",
    "ORDER BY MatchingSymptoms DESC\n",
    "LIMIT 5\n",
    "\n",
    "\"\"\")"
   ]
  },
  {
   "cell_type": "markdown",
   "metadata": {},
   "source": [
    "**LLM connection**"
   ]
  },
  {
   "cell_type": "code",
   "execution_count": 41,
   "metadata": {},
   "outputs": [],
   "source": [
    "import os\n",
    "from langchain_groq import ChatGroq\n",
    "\n",
    "# Set your Groq API key\n",
    "os.environ[\"GROQ_API_KEY\"] = \"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\"\n",
    "\n",
    "# Initialize the ChatGroq model\n",
    "llm = ChatGroq(\n",
    "    model=\"llama-3.3-70b-versatile\",\n",
    "    temperature=1,\n",
    "    max_tokens=1024,\n",
    ")\n"
   ]
  },
  {
   "cell_type": "markdown",
   "metadata": {},
   "source": [
    "**Connectivity Check**"
   ]
  },
  {
   "cell_type": "code",
   "execution_count": 42,
   "metadata": {},
   "outputs": [
    {
     "name": "stdout",
     "output_type": "stream",
     "text": [
      "Abdul Kalam was the 11th President of India, serving from 2002 to 2007, and a renowned aerospace engineer and scientist. He is often referred to as the \"Missile Man of India\" for his contributions to the country's missile defense program and is remembered for his inspiring leadership and vision for India's development.\n"
     ]
    }
   ],
   "source": [
    "# Define the conversation\n",
    "messages = [\n",
    "    (\"system\", \"You are a helpful assistant.\"),\n",
    "    (\"human\", \"Who is Abdul kalam in 2 lines?\"),\n",
    "]\n",
    "\n",
    "# Generate the response\n",
    "ai_msg = llm.invoke(messages)\n",
    "print(ai_msg.content)\n"
   ]
  },
  {
   "cell_type": "markdown",
   "metadata": {},
   "source": [
    "**Graph RAG: Neo4j Graph + LLM with Prompt for Cypher Query Generation**"
   ]
  },
  {
   "cell_type": "code",
   "execution_count": 43,
   "metadata": {},
   "outputs": [],
   "source": [
    "from langchain_neo4j import GraphCypherQAChain\n",
    "from langchain_ollama import ChatOllama\n",
    "from langchain_core.prompts.prompt import PromptTemplate\n",
    "\n",
    "# Define the schema and question\n",
    "schema = \"\"\"\n",
    "Nodes:\n",
    "- Disease: {name: string}\n",
    "- Symptom: {name: string}\n",
    "Relationships:\n",
    "- (Disease)-[:HAS_SYMPTOM]->(Symptom)\n",
    "\"\"\"\n",
    "\n",
    "question = \"What diseases are associated with itching, skin_rash, nodal_skin_eruptions?\"\n",
    "\n",
    "CYPHER_GENERATION_TEMPLATE = \"\"\"\n",
    "Task: Generate a Cypher statement to query a graph database.\n",
    "\n",
    "Instructions:\n",
    "Use only the provided relationship types and properties in the schema.\n",
    "Do not use any other relationship types or properties that are not provided.\n",
    "\n",
    "Schema:\n",
    "{schema}\n",
    "\n",
    "Note: Do not include any explanations or apologies in your responses.\n",
    "Do not respond to any questions that might ask anything else than for you to construct a Cypher statement.\n",
    "Do not include any text except the generated Cypher statement.\n",
    "\n",
    "Examples: \n",
    "# What diseases are associated with itching, skin_rash, nodal_skin_eruptions?\n",
    "MATCH (d:Disease)<-[:HAS_SYMPTOM]-(s:Symptom)\n",
    "WHERE s.name IN [\"itching\", \"skin_rash\", \"nodal_skin_eruptions\"]\n",
    "RETURN d.name AS Disease, COUNT(s) AS MatchingSymptoms\n",
    "ORDER BY MatchingSymptoms DESC\n",
    "LIMIT 5\n",
    "\n",
    "# What treatments are associated with fever and headache?\n",
    "MATCH (t:Treatment)<-[:TREATS]-(d:Disease)-[:HAS_SYMPTOM]->(s:Symptom)\n",
    "WHERE s.name IN [\"fever\", \"headache\"]\n",
    "RETURN t.name AS Treatment, COUNT(s) AS MatchingSymptoms\n",
    "ORDER BY MatchingSymptoms DESC\n",
    "\n",
    "# Which doctors are treating diseases related to fatigue and nausea?\n",
    "MATCH (doc:Doctor)-[:TREATS]->(d:Disease)-[:HAS_SYMPTOM]->(s:Symptom)\n",
    "WHERE s.name IN [\"fatigue\", \"nausea\"]\n",
    "RETURN doc.name AS Doctor, COUNT(s) AS MatchingSymptoms\n",
    "ORDER BY MatchingSymptoms DESC\n",
    "LIMIT 5\n",
    "\n",
    "The question is:\n",
    "{question}\"\"\"\n",
    "\n",
    "# # Initialize the LLM\n",
    "# llm = ChatOllama(model=\"deepseek-r1:1.5b\", temperature=1.5)\n",
    "\n",
    "# Create the prompt\n",
    "prompt = PromptTemplate(input_variables=[\"schema\", \"question\"], template=CYPHER_GENERATION_TEMPLATE)\n",
    "\n",
    "# Set up the GraphCypherQAChain\n",
    "chain = GraphCypherQAChain.from_llm(\n",
    "    llm=llm,\n",
    "    graph=graph,\n",
    "    cypher_prompt=prompt,\n",
    "    verbose=True,\n",
    "    allow_dangerous_requests=True\n",
    ")"
   ]
  },
  {
   "cell_type": "code",
   "execution_count": 44,
   "metadata": {},
   "outputs": [
    {
     "name": "stdout",
     "output_type": "stream",
     "text": [
      "\n",
      "\n",
      "\u001b[1m> Entering new GraphCypherQAChain chain...\u001b[0m\n",
      "Generated Cypher:\n",
      "\u001b[32;1m\u001b[1;3mMATCH (d:Disease)<-[:HAS_SYMPTOM]-(s:Symptom) \n",
      "WHERE s.name IN [\"itching\", \"skin_rash\", \"nodal_skin_eruptions\"] \n",
      "RETURN d.name AS Disease, COUNT(s) AS MatchingSymptoms \n",
      "ORDER BY MatchingSymptoms DESC \n",
      "LIMIT 5\u001b[0m\n",
      "Full Context:\n",
      "\u001b[32;1m\u001b[1;3m[{'Disease': 'Fungal Infection', 'MatchingSymptoms': 3}, {'Disease': 'Drug Reaction', 'MatchingSymptoms': 2}, {'Disease': 'Chickenpox', 'MatchingSymptoms': 2}, {'Disease': 'Jaundice', 'MatchingSymptoms': 1}, {'Disease': 'Chronic Cholestasis', 'MatchingSymptoms': 1}]\u001b[0m\n",
      "\n",
      "\u001b[1m> Finished chain.\u001b[0m\n",
      "{'query': 'What diseases are associated with itching, skin_rash, nodal_skin_eruptions?', 'result': 'Fungal Infection, Drug Reaction, and Chickenpox are associated with itching, skin_rash, nodal_skin_eruptions. Fungal Infection has the most matching symptoms with 3 matches, while Drug Reaction and Chickenpox each have 2 matching symptoms.'}\n"
     ]
    }
   ],
   "source": [
    "# 11. Invoke the Query Chain and Get the Result\n",
    "KG_response= chain.invoke({\"query\": question})\n",
    "\n",
    "# 12. Print the Result\n",
    "print(KG_response)"
   ]
  },
  {
   "cell_type": "markdown",
   "metadata": {},
   "source": [
    "# Agentic Rag"
   ]
  },
  {
   "cell_type": "code",
   "execution_count": null,
   "metadata": {},
   "outputs": [],
   "source": [
    "! pip install -U duckduckgo-search langchain_tools"
   ]
  },
  {
   "cell_type": "markdown",
   "metadata": {},
   "source": [
    "**DuckDuckGo Search Tool with LangChain for Disease Recommendation**"
   ]
  },
  {
   "cell_type": "code",
   "execution_count": 46,
   "metadata": {},
   "outputs": [
    {
     "name": "stdout",
     "output_type": "stream",
     "text": [
      "\n",
      "\n",
      "\u001b[1m> Entering new AgentExecutor chain...\u001b[0m\n",
      "\u001b[32;1m\u001b[1;3mTo recommend diseases based on the given symptoms, I should first search for possible diseases that are associated with itching, skin rash, and nodal skin eruptions.\n",
      "\n",
      "Action: DuckDuckGo Search\n",
      "Action Input: {'query': 'diseases with itching skin rash nodal skin eruptions', 'verbose': False}\u001b[0m\n",
      "Observation: \u001b[36;1m\u001b[1;3mA rash is any area of irritated or swollen skin. Rashes may be itchy and painful and appear differently on different skin tones. In some cases, a rash may be a sign of a medical emergency. Skin rashes can be caused by a variety of factors, including allergens, chemicals, drugs, viruses, temperature, and even stress. Here are the 10 most common types of rashes, what causes them, and the typical course of treatment. From eczema to allergic reactions to bug bites, here's what common skin rashes look like in photos, and the symptoms that can help you I.D. the condition. It's a rare but dramatic skin problem with a relentless itch and hard lumps all over your body. Learn about prurigo nodularis and how to get relief. Disease Overview Summary Prurigo nodularis (PN) is a chronic inflammatory skin disease where an extremely itchy, symmetrically distributed rash appears most commonly on the arms, legs, the upper back and/or the abdomen. The itch associated with PN is so severe that it often interferes with sleep and psychological wellbeing.\u001b[0m\n",
      "Thought:\u001b[32;1m\u001b[1;3mBased on the observation from the search, it seems that the symptoms of itching, skin rash, and nodal skin eruptions are associated with a disease called Prurigo Nodularis (PN). \n",
      "\n",
      "Action: DuckDuckGo Search\n",
      "Action Input: {'query': 'Prurigo Nodularis causes and treatment', 'verbose': False}\u001b[0m\n",
      "Observation: \u001b[36;1m\u001b[1;3mPrurigo nodularis (PN) is a chronic disorder of the skin that is classically seen as multiple, firm, flesh-to-pink-colored nodules commonly located on the extensor surfaces of the extremities. The lesions are very pruritic, and the condition may occur in any age group. It is commonly associated with another disorder of cutaneous hypersensitivity, such as atopic dermatitis or chronic pruritus ... Prurigo nodularis causes symptoms including hard and intensely itchy bumps on the skin. The most important goal of treatment is usually to minimize itching and break the itch-scratch cycle, which can lead to subsequent scratching and cause even itchier nodules or hard lumps to form. Causes of Prurigo Nodularis While the exact causes of Prurigo Nodularis are not fully understood, several factors may contribute to its development. Chronic scratching or rubbing of the skin, underlying skin conditions such as eczema or dermatitis, and neurological or psychological factors are believed to play a role in the pathogenesis of PN. The sooner you get treatment, the more likely you are to get relief from prurigo nodularis. If you have itchy bumps on your skin for more than 2 weeks, see a dermatologist. There are no treatments ... A panelist discusses how the advent of targeted systemic therapies such as dupilumab and nemolizumab has transformed the treatment landscape for prurigo nodularis, offering more effective options for breaking the itch-scratch cycle while maintaining favorable safety profiles compared with traditional systemic treatments.\u001b[0m\n",
      "Thought:\u001b[32;1m\u001b[1;3mBased on the observation from the search, it seems that Prurigo Nodularis (PN) is a chronic disorder of the skin characterized by multiple, firm, flesh-to-pink-colored nodules commonly located on the extensor surfaces of the extremities. The lesions are very pruritic, and the condition may occur in any age group. \n",
      "\n",
      "The causes of Prurigo Nodularis are not fully understood, but several factors may contribute to its development, including chronic scratching or rubbing of the skin, underlying skin conditions such as eczema or dermatitis, and neurological or psychological factors.\n",
      "\n",
      "Action: DuckDuckGo Search\n",
      "Action Input: {'query': 'Prurigo Nodularis treatment options', 'verbose': False}\u001b[0m\n",
      "Observation: \u001b[36;1m\u001b[1;3m9 Prurigo Nodularis Treatment Options Medically reviewed by Steven Devos, M.D., Ph.D. Written by Maureen McNulty and Kacie Riggs. Updated on November 6, 2024. 137 18. 7 Facebook; twitter; copy link; Prurigo nodularis (PN) is a chronic skin condition characterized by itchy nodules. While there's no cure, various treatments can help manage ... Many skin conditions can lead to these types of disruptions. One such condition is prurigo nodularis (PN), which causes bumps on the skin. These bumps, or nodules, are hard, itchy, and may bleed when scratched intensely. There's no cure for prurigo nodularis. Instead, the goal of PN treatment is to break the itch-scratch cycle. This allows ... A panelist discusses how the advent of targeted systemic therapies such as dupilumab and nemolizumab has transformed the treatment landscape for prurigo nodularis, offering more effective options for breaking the itch-scratch cycle while maintaining favorable safety profiles compared with traditional systemic treatments. Treatment and Management of Prurigo Nodularis. Managing Prurigo Nodularis requires a comprehensive approach tailored to each individual's needs. While there is no cure for PN, various treatment options can help alleviate symptoms and improve quality of life. Topical treatments, such as corticosteroids or calcineurin inhibitors, may provide ... A collection of clinical insights on prurigo nodularis, exploring awareness and educational efforts as well as trends in treatment. News. Media. Around the Practice. ... New Systemic Treatment Options for Prurigo Nodularis EP: 9.A Rapidly Changing Landscape in Prurigo Nodularis Signals New Directions and Opportunities for Treatment. EP: 10.\u001b[0m\n",
      "Thought:\u001b[32;1m\u001b[1;3mBased on the observation from the search, it seems that Prurigo Nodularis (PN) is a chronic skin condition characterized by itchy nodules, and while there's no cure, various treatments can help manage the condition. The goal of PN treatment is to break the itch-scratch cycle, and treatment options include topical treatments such as corticosteroids or calcineurin inhibitors, as well as systemic therapies such as dupilumab and nemolizumab.\n",
      "\n",
      "Action: None\n",
      "Thought: I now know the final answer\n",
      "Final Answer: Based on the symptoms of itching, skin rash, and nodal skin eruptions, the recommended disease is Prurigo Nodularis (PN). The causes of Prurigo Nodularis are not fully understood, but several factors may contribute to its development, including chronic scratching or rubbing of the skin, underlying skin conditions such as eczema or dermatitis, and neurological or psychological factors. Treatment options for Prurigo Nodularis include topical treatments such as corticosteroids or calcineurin inhibitors, as well as systemic therapies such as dupilumab and nemolizumab, with the goal of breaking the itch-scratch cycle and alleviating symptoms.\u001b[0m\n",
      "\n",
      "\u001b[1m> Finished chain.\u001b[0m\n",
      "Based on the symptoms of itching, skin rash, and nodal skin eruptions, the recommended disease is Prurigo Nodularis (PN). The causes of Prurigo Nodularis are not fully understood, but several factors may contribute to its development, including chronic scratching or rubbing of the skin, underlying skin conditions such as eczema or dermatitis, and neurological or psychological factors. Treatment options for Prurigo Nodularis include topical treatments such as corticosteroids or calcineurin inhibitors, as well as systemic therapies such as dupilumab and nemolizumab, with the goal of breaking the itch-scratch cycle and alleviating symptoms.\n"
     ]
    }
   ],
   "source": [
    "# Import necessary modules\n",
    "from langchain.agents import initialize_agent, Tool, AgentType\n",
    "from langchain_community.tools import DuckDuckGoSearchRun\n",
    "\n",
    "# Initialize DuckDuckGo search tool\n",
    "ddg_search = DuckDuckGoSearchRun()\n",
    "\n",
    "# Define the tools the agent can use\n",
    "tools = [\n",
    "    Tool(\n",
    "        name=\"DuckDuckGo Search\",\n",
    "        func=ddg_search.run,\n",
    "        description=\"Search for diseases based on symptoms using DuckDuckGo\"\n",
    "    )\n",
    "]\n",
    "\n",
    "# Initialize the agent with Zero-Shot-React-Description agent type\n",
    "agent = initialize_agent(\n",
    "    llm=llm,\n",
    "    tools=tools,\n",
    "    agent_type=AgentType.ZERO_SHOT_REACT_DESCRIPTION,\n",
    "    verbose=True\n",
    ")\n",
    "\n",
    "# Define the symptoms\n",
    "symptoms = \"itching, skin rash, nodal skin eruptions\"\n",
    "\n",
    "# Query the agent to recommend diseases based on the symptoms\n",
    "Agent_response = agent.invoke(f\"Recommend diseases based on the following symptoms: {symptoms}\")\n",
    "\n",
    "print(Agent_response['output'])"
   ]
  },
  {
   "cell_type": "markdown",
   "metadata": {},
   "source": [
    "# KG Rag response + Agentic Rag Response"
   ]
  },
  {
   "cell_type": "code",
   "execution_count": 47,
   "metadata": {},
   "outputs": [
    {
     "name": "stderr",
     "output_type": "stream",
     "text": [
      "c:\\Users\\admin\\OneDrive\\Desktop\\Symptoms_based_disease_prediction\\symp_venv\\Lib\\site-packages\\langchain_groq\\chat_models.py:364: UserWarning: WARNING! stream is not default parameter.\n",
      "                    stream was transferred to model_kwargs.\n",
      "                    Please confirm that stream is what you intended.\n",
      "  warnings.warn(\n"
     ]
    },
    {
     "name": "stdout",
     "output_type": "stream",
     "text": [
      "After reviewing the responses, I have refined and merged the information to provide an accurate and comprehensive answer.\n",
      "\n",
      "Step 1: Review and Refine Responses\n",
      "Upon examining the responses, I noticed that the Knowledge Graph Response listed Fungal Infection, Drug Reaction, and Chickenpox as associated diseases, while the Web Search Response recommended Prurigo Nodularis (PN). To prioritize and eliminate duplicates, I have compiled a list of unique diseases associated with the symptoms.\n",
      "\n",
      "Step 2-4: Enhance Responses\n",
      "To manage or alleviate the symptoms, I suggest the following:\n",
      "\n",
      " A healthy diet rich in fruits, vegetables, whole grains, and lean proteins can help manage symptoms. Specific foods to consume include:\n",
      "\t+ Omega-3 fatty acid-rich foods like salmon, sardines, and walnuts to reduce inflammation\n",
      "\t+ Antioxidant-rich foods like berries, leafy greens, and bell peppers to combat oxidative stress\n",
      "\t+ Probiotic-rich foods like yogurt, kefir, and kimchi to support gut health\n",
      " Foods and drinks to avoid include:\n",
      "\t+ Processed and sugary foods that can trigger inflammation\n",
      "\t+ Dairy products and gluten, which may exacerbate skin conditions in some individuals\n",
      "\t+ Caffeine and alcohol, which can disrupt sleep and worsen symptoms\n",
      " Natural techniques and exercises that can complement medical treatment include:\n",
      "\t+ Gentle stretching and yoga to reduce stress and promote relaxation\n",
      "\t+ Meditation and deep breathing exercises to calm the mind and body\n",
      "\t+ Applying cool compresses or taking lukewarm baths with oatmeal or baking soda to soothe the skin\n",
      " To consult with a specialist, I recommend:\n",
      "\t+ A dermatologist, as they can diagnose and treat skin conditions like Prurigo Nodularis, Fungal Infections, and other dermatological disorders\n",
      "\t+ An allergist or immunologist, if the symptoms are suspected to be related to an allergic reaction or immune system disorder\n",
      "\n",
      "Refined Response\n",
      "Here is the compiled and refined response:\n",
      "\n",
      "1. Associated Diseases (prioritized by severity and commonality):\n",
      "\t Prurigo Nodularis (PN)\n",
      "\t Fungal Infection\n",
      "\t Drug Reaction\n",
      "\t Chickenpox\n",
      "2. Healthy Diet:\n",
      "\t Consume: omega-3 rich foods, antioxidant-rich foods, probiotic-rich foods\n",
      "\t Avoid: processed and sugary foods, dairy products, gluten, caffeine, and alcohol\n",
      "3. Natural Techniques and Exercises:\n",
      "\t Gentle stretching and yoga\n",
      "\t Meditation and deep breathing exercises\n",
      "\t Applying cool compresses or taking lukewarm baths with oatmeal or baking soda\n",
      "4. Doctor or Specialist to Consult:\n",
      "\t Dermatologist: to diagnose and treat skin conditions\n",
      "\t Allergist or Immunologist: if symptoms are suspected to be related to an allergic reaction or immune system disorder\n",
      "\n",
      "This refined response provides a comprehensive and concise answer, prioritizing diseases based on severity and commonality, suggesting a healthy diet, recommending natural techniques and exercises, and specifying the type of doctor or specialist to consult."
     ]
    }
   ],
   "source": [
    "import os\n",
    "import re\n",
    "from langchain_groq import ChatGroq\n",
    "\n",
    "# Set your Groq API key\n",
    "os.environ[\"GROQ_API_KEY\"] = \"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\"\n",
    "\n",
    "# Initialize the ChatGroq model\n",
    "llm = ChatGroq(\n",
    "    model=\"llama-3.3-70b-versatile\",\n",
    "    temperature=1,\n",
    "    max_tokens=1024,\n",
    "    stream=True\n",
    ")\n",
    "\n",
    "# Example responses\n",
    "kg_response = \"Diabetes, Hypertension, Influenza\"\n",
    "web_response = \"Hypertension, Influenza, Asthma\"\n",
    "\n",
    "# Define the conversation\n",
    "messages = [\n",
    "    (\"system\", \"You are a highly knowledgeable and detail-oriented medical assistant with the ability to critically analyze responses for errors and inconsistencies.\"),\n",
    "    (\"human\", f\"I have two sets of responses related to symptoms:\\n\"\n",
    "              f\"1. Knowledge Graph Response: {KG_response}\\n\"\n",
    "              f\"2. Web Search Response: {Agent_response}\\n\"\n",
    "              f\"\\n\"\n",
    "              f\"Please follow these steps to refine and merge the responses:\\n\"\n",
    "              f\"1. Review both responses for mistakes, inconsistencies, and redundant diseases. Ensure no disease is listed more than once and prioritize based on severity and commonality.\\n\"\n",
    "              f\"2. Suggest a healthy diet to manage or alleviate the symptoms. Include specific foods and drinks to consume and avoid.\\n\"\n",
    "              f\"3. Recommend safe and easy natural techniques or exercises that can complement medical treatment.\\n\"\n",
    "              f\"4. Specify the type of doctor or specialist to consult and provide a brief reason for each recommendation.\\n\"\n",
    "              f\"\\n\"\n",
    "              f\"After reviewing and enhancing the responses, follow these steps:\\n\"\n",
    "              f\"    1. List all associated diseases, eliminating duplicates and prioritizing based on severity.\\n\"\n",
    "              f\"    2. Suggest a healthy diet, including specific foods to consume and avoid.\\n\"\n",
    "              f\"    3. Recommend natural techniques or exercises that are easy and safe.\\n\"\n",
    "              f\"    4. Specify the type of doctor or specialist to consult with a brief reason.\\n\"\n",
    "              f\"Ensure the response is clear, concise, and easy to understand.\"),\n",
    "]\n",
    "\n",
    "# # Generate the response\n",
    "# for chunk in llm.stream(messages):\n",
    "#     print(chunk.content, end='', flush=True)\n",
    "\n",
    "# Stream and clean markdown on the fly\n",
    "for chunk in llm.stream(messages):\n",
    "    cleaned_chunk = re.sub(r'(\\*\\*|\\*|__|_|\\[.*?\\]\\(.*?\\))', '', chunk.content)\n",
    "    print(cleaned_chunk, end='', flush=True)"
   ]
  },
  {
   "cell_type": "code",
   "execution_count": null,
   "metadata": {},
   "outputs": [],
   "source": []
  }
 ],
 "metadata": {
  "kernelspec": {
   "display_name": "symp_venv",
   "language": "python",
   "name": "python3"
  },
  "language_info": {
   "codemirror_mode": {
    "name": "ipython",
    "version": 3
   },
   "file_extension": ".py",
   "mimetype": "text/x-python",
   "name": "python",
   "nbconvert_exporter": "python",
   "pygments_lexer": "ipython3",
   "version": "3.12.7"
  }
 },
 "nbformat": 4,
 "nbformat_minor": 2
}
