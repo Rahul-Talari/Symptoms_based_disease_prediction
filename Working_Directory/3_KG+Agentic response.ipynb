{
 "cells": [
  {
   "cell_type": "markdown",
   "metadata": {},
   "source": [
    "# KG Rag"
   ]
  },
  {
   "cell_type": "code",
   "execution_count": 3,
   "metadata": {},
   "outputs": [
    {
     "name": "stderr",
     "output_type": "stream",
     "text": [
      "\n",
      "Usage:   \n",
      "  pip install [options] <requirement specifier> [package-index-options] ...\n",
      "  pip install [options] -r <requirements file> [package-index-options] ...\n",
      "  pip install [options] [-e] <vcs project url> ...\n",
      "  pip install [options] [-e] <local project path> ...\n",
      "  pip install [options] <archive url/path> ...\n",
      "\n",
      "no such option: --qU\n"
     ]
    }
   ],
   "source": [
    "! pip install --qU pandas langchain_neo4j neo4j langchain_core langchain_ollama langchain_groq"
   ]
  },
  {
   "cell_type": "markdown",
   "metadata": {},
   "source": [
    "**Connection to constructed Neo4j graph**"
   ]
  },
  {
   "cell_type": "code",
   "execution_count": 4,
   "metadata": {},
   "outputs": [
    {
     "name": "stdout",
     "output_type": "stream",
     "text": [
      "<langchain_neo4j.graphs.neo4j_graph.Neo4jGraph object at 0x000001F310D67740>\n",
      "Connected to Neo4j graph.\n"
     ]
    }
   ],
   "source": [
    "# 1. Importing Required Libraries\n",
    "from neo4j import GraphDatabase\n",
    "from langchain_neo4j import Neo4jGraph\n",
    "\n",
    "# 2. Connect to Neo4j\n",
    "NEO4J_URI=\"neo4j+s://07561b92.databases.neo4j.io\"\n",
    "NEO4J_USERNAME=\"neo4j\"\n",
    "NEO4J_PASSWORD=\"2wQMIQq_1cANjkh837eMSHUsYBH2F-XLialhvPmM3Bw\"\n",
    "\n",
    "URI = NEO4J_URI\n",
    "AUTH = (NEO4J_USERNAME,NEO4J_PASSWORD) #AUTH = (\"<Username>\", \"<Password>\")\n",
    "with GraphDatabase.driver(URI, auth=AUTH) as driver:\n",
    "    driver.verify_connectivity()\n",
    "\n",
    "\n",
    "graph=Neo4jGraph(url=NEO4J_URI,username=NEO4J_USERNAME,password=NEO4J_PASSWORD)\n",
    "print(graph)\n",
    "print(\"Connected to Neo4j graph.\")"
   ]
  },
  {
   "cell_type": "markdown",
   "metadata": {},
   "source": [
    "**Connectivity Check**"
   ]
  },
  {
   "cell_type": "code",
   "execution_count": 5,
   "metadata": {},
   "outputs": [
    {
     "data": {
      "text/plain": [
       "[{'Disease': 'Fungal Infection', 'MatchingSymptoms': 3},\n",
       " {'Disease': 'Drug Reaction', 'MatchingSymptoms': 2},\n",
       " {'Disease': 'Chickenpox', 'MatchingSymptoms': 2},\n",
       " {'Disease': 'Jaundice', 'MatchingSymptoms': 1},\n",
       " {'Disease': 'Chronic Cholestasis', 'MatchingSymptoms': 1}]"
      ]
     },
     "execution_count": 5,
     "metadata": {},
     "output_type": "execute_result"
    }
   ],
   "source": [
    "graph.query(\n",
    "\"\"\"\n",
    "MATCH (d:Disease)<-[:HAS_SYMPTOM]-(s:Symptom)\n",
    "WHERE s.name IN [\"itching\", \"skin_rash\", \"nodal_skin_eruptions\"]\n",
    "RETURN d.name AS Disease, COUNT(s) AS MatchingSymptoms\n",
    "ORDER BY MatchingSymptoms DESC\n",
    "LIMIT 5\n",
    "\n",
    "\"\"\")"
   ]
  },
  {
   "cell_type": "markdown",
   "metadata": {},
   "source": [
    "**LLM connection**"
   ]
  },
  {
   "cell_type": "code",
   "execution_count": 6,
   "metadata": {},
   "outputs": [],
   "source": [
    "import os\n",
    "from langchain_groq import ChatGroq\n",
    "\n",
    "# Set your Groq API key\n",
    "os.environ[\"GROQ_API_KEY\"] = \"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\"\n",
    "\n",
    "# Initialize the ChatGroq model\n",
    "llm = ChatGroq(\n",
    "    model=\"llama-3.3-70b-versatile\",\n",
    "    temperature=1,\n",
    "    max_tokens=1024,\n",
    ")\n"
   ]
  },
  {
   "cell_type": "markdown",
   "metadata": {},
   "source": [
    "**Connectivity Check**"
   ]
  },
  {
   "cell_type": "code",
   "execution_count": 7,
   "metadata": {},
   "outputs": [
    {
     "name": "stdout",
     "output_type": "stream",
     "text": [
      "Abdul Kalam was a renowned Indian scientist and politician who served as the 11th President of India from 2002 to 2007. He is often referred to as the \"Missile Man of India\" for his significant contributions to the country's space and missile programs.\n"
     ]
    }
   ],
   "source": [
    "# Define the conversation\n",
    "messages = [\n",
    "    (\"system\", \"You are a helpful assistant.\"),\n",
    "    (\"human\", \"Who is Abdul kalam in 2 lines?\"),\n",
    "]\n",
    "\n",
    "# Generate the response\n",
    "ai_msg = llm.invoke(messages)\n",
    "print(ai_msg.content)\n"
   ]
  },
  {
   "cell_type": "markdown",
   "metadata": {},
   "source": [
    "**Graph RAG: Neo4j Graph + LLM with Prompt for Cypher Query Generation**"
   ]
  },
  {
   "cell_type": "code",
   "execution_count": 27,
   "metadata": {},
   "outputs": [
    {
     "name": "stdout",
     "output_type": "stream",
     "text": [
      "\n",
      "\n",
      "\u001b[1m> Entering new GraphCypherQAChain chain...\u001b[0m\n",
      "Generated Cypher:\n",
      "\u001b[32;1m\u001b[1;3mMATCH (d:Disease)<-[:HAS_SYMPTOM]-(s:Symptom)\n",
      "WHERE s.name IN [\"itching\", \"skin_rash\", \"dischromic_patches\"]\n",
      "RETURN d.name AS Disease, COUNT(s) AS MatchingSymptoms\n",
      "ORDER BY MatchingSymptoms DESC\n",
      "LIMIT 5\u001b[0m\n",
      "Full Context:\n",
      "\u001b[32;1m\u001b[1;3m[{'Disease': 'Chickenpox', 'MatchingSymptoms': 2}, {'Disease': 'Drug Reaction', 'MatchingSymptoms': 2}, {'Disease': 'Fungal Infection', 'MatchingSymptoms': 2}, {'Disease': 'Jaundice', 'MatchingSymptoms': 1}, {'Disease': 'Chronic Cholestasis', 'MatchingSymptoms': 1}]\u001b[0m\n",
      "\n",
      "\u001b[1m> Finished chain.\u001b[0m\n",
      "{'query': 'What are diseases associated with this symptoms itching, skin_rash, dischromic _patches?', 'result': 'Based on the symptoms itching, skin_rash, dischromic_patches, the associated diseases are Chickenpox, Drug Reaction, and Fungal Infection, as they have the most matching symptoms. Additionally, Jaundice and Chronic Cholestasis are also possible, although they have fewer matching symptoms.'}\n"
     ]
    }
   ],
   "source": [
    "from langchain_neo4j import GraphCypherQAChain\n",
    "from langchain_ollama import ChatOllama\n",
    "from langchain_core.prompts.prompt import PromptTemplate\n",
    "\n",
    "# Define the schema and question\n",
    "schema = \"\"\"\n",
    "Nodes:\n",
    "- Disease: {name: string}\n",
    "- Symptom: {name: string}\n",
    "Relationships:\n",
    "- (Disease)-[:HAS_SYMPTOM]->(Symptom)\n",
    "\"\"\"\n",
    "\n",
    "question = \"What are diseases associated with this symptoms itching, skin_rash, dischromic _patches?\"\n",
    "\n",
    "CYPHER_GENERATION_TEMPLATE = \"\"\"\n",
    "Task: Generate a Cypher statement to query a graph database.\n",
    "\n",
    "Instructions:\n",
    "Use only the provided relationship types and properties in the schema.\n",
    "Do not use any other relationship types or properties that are not provided.\n",
    "\n",
    "Schema:\n",
    "{schema}\n",
    "\n",
    "Note: Do not include any explanations or apologies in your responses.\n",
    "Do not respond to any questions that might ask anything else than for you to construct a Cypher statement.\n",
    "Do not include any text except the generated Cypher statement.\n",
    "\n",
    "Examples: \n",
    "# What diseases are associated with itching, skin_rash, nodal_skin_eruptions?\n",
    "MATCH (d:Disease)<-[:HAS_SYMPTOM]-(s:Symptom)\n",
    "WHERE s.name IN [\"itching\", \"skin_rash\", \"nodal_skin_eruptions\"]\n",
    "RETURN d.name AS Disease, COUNT(s) AS MatchingSymptoms\n",
    "ORDER BY MatchingSymptoms DESC\n",
    "LIMIT 5\n",
    "\n",
    "# What treatments are associated with fever and headache?\n",
    "MATCH (t:Treatment)<-[:TREATS]-(d:Disease)-[:HAS_SYMPTOM]->(s:Symptom)\n",
    "WHERE s.name IN [\"fever\", \"headache\"]\n",
    "RETURN t.name AS Treatment, COUNT(s) AS MatchingSymptoms\n",
    "ORDER BY MatchingSymptoms DESC\n",
    "\n",
    "# Which doctors are treating diseases related to fatigue and nausea?\n",
    "MATCH (doc:Doctor)-[:TREATS]->(d:Disease)-[:HAS_SYMPTOM]->(s:Symptom)\n",
    "WHERE s.name IN [\"fatigue\", \"nausea\"]\n",
    "RETURN doc.name AS Doctor, COUNT(s) AS MatchingSymptoms\n",
    "ORDER BY MatchingSymptoms DESC\n",
    "LIMIT 5\n",
    "\n",
    "The question is:\n",
    "{question}\"\"\"\n",
    "\n",
    "# # Initialize the LLM\n",
    "# llm = ChatOllama(model=\"deepseek-r1:1.5b\", temperature=1.5)\n",
    "\n",
    "# Create the prompt\n",
    "prompt = PromptTemplate(input_variables=[\"schema\", \"question\"], template=CYPHER_GENERATION_TEMPLATE)\n",
    "\n",
    "# Set up the GraphCypherQAChain\n",
    "chain = GraphCypherQAChain.from_llm(\n",
    "    llm=llm,\n",
    "    graph=graph,\n",
    "    cypher_prompt=prompt,\n",
    "    verbose=True,\n",
    "    allow_dangerous_requests=True\n",
    ")\n",
    "\n",
    "# 11. Invoke the Query Chain and Get the Result\n",
    "KG_response= chain.invoke({\"query\": question})\n",
    "\n",
    "# 12. Print the Result\n",
    "print(KG_response)"
   ]
  },
  {
   "cell_type": "code",
   "execution_count": null,
   "metadata": {},
   "outputs": [],
   "source": [
    "# 11. Invoke the Query Chain and Get the Result\n",
    "KG_response= chain.invoke({\"query\": question})\n",
    "\n",
    "# 12. Print the Result\n",
    "print(KG_response)"
   ]
  },
  {
   "cell_type": "markdown",
   "metadata": {},
   "source": [
    "# Agentic Rag"
   ]
  },
  {
   "cell_type": "code",
   "execution_count": 1,
   "metadata": {},
   "outputs": [],
   "source": [
    "! pip install -qU duckduckgo-search langchain_tools"
   ]
  },
  {
   "cell_type": "markdown",
   "metadata": {},
   "source": [
    "**DuckDuckGo Search Tool with LangChain for Disease Recommendation**"
   ]
  },
  {
   "cell_type": "code",
   "execution_count": 9,
   "metadata": {},
   "outputs": [
    {
     "name": "stderr",
     "output_type": "stream",
     "text": [
      "C:\\Users\\admin\\AppData\\Local\\Temp\\ipykernel_9344\\2619257943.py:18: LangChainDeprecationWarning: LangChain agents will continue to be supported, but it is recommended for new use cases to be built with LangGraph. LangGraph offers a more flexible and full-featured framework for building agents, including support for tool-calling, persistence of state, and human-in-the-loop workflows. For details, refer to the `LangGraph documentation <https://langchain-ai.github.io/langgraph/>`_ as well as guides for `Migrating from AgentExecutor <https://python.langchain.com/docs/how_to/migrate_agent/>`_ and LangGraph's `Pre-built ReAct agent <https://langchain-ai.github.io/langgraph/how-tos/create-react-agent/>`_.\n",
      "  agent = initialize_agent(\n"
     ]
    },
    {
     "name": "stdout",
     "output_type": "stream",
     "text": [
      "\n",
      "\n",
      "\u001b[1m> Entering new AgentExecutor chain...\u001b[0m\n",
      "\u001b[32;1m\u001b[1;3mTo recommend diseases based on the given symptoms, I should first search for diseases that are commonly associated with these symptoms. The symptoms provided are itching, skin rash, and nodal skin eruptions. \n",
      "\n",
      "Action: DuckDuckGo Search\n",
      "Action Input: {'query': 'diseases causing itching skin rash nodal skin eruptions', 'verbose': False, 'start_color': 'green', 'color': 'green', 'callbacks': None, 'tags': None, 'metadata': None, 'run_name': None, 'run_id': None, 'config': None, 'tool_call_id': None}\u001b[0m\n",
      "Observation: \u001b[36;1m\u001b[1;3ma rash that appears red, skin-colored, or darker than the natural skin color a rash that spreads from the face down the body 3-5 days after the first symptoms appear tiny white spots with bluish ... Itchy skin is an irritating sensation that makes you want to scratch. It's also called pruritus (proo-RIE-tus). Itchy skin is often caused by dry skin and is common in older adults, as skin tends to become drier with age. Depending on the cause of your itchiness, your skin may look no different than usual or it may be inflamed, rough or have bumps. Look out for signs of your skin changing color or hue, such as yellow or gray. Advertisement This type of itching ( uremic pruritus ) may be due to changes in your immune system or nerve issues. A rash is essentially inflammation in the skin that can be caused by either an external exposure or an internal factor,\" says Joshua Zeichner, M.D., director of cosmetic and clinical research in ... It gets its name because it presents as a red circular rash. Ringworm can occur anywhere on the body and is very itchy (athlete's foot and jock itch are types of ringworm). It's important to remember that a red circular rash can also be caused by Lyme disease. A health care provider can make sure this type of rash is properly diagnosed.\u001b[0m\n",
      "Thought:\u001b[32;1m\u001b[1;3mBased on the observation, it seems that the search results provide some information about diseases that could be associated with itching, skin rash, and nodal skin eruptions. However, the results appear to be somewhat general and do not provide a specific list of diseases that match all of the given symptoms.\n",
      "\n",
      "Action: DuckDuckGo Search\n",
      "Action Input: {'query': 'diseases with itching skin rash and nodal skin eruptions', 'verbose': False, 'start_color': 'green', 'color': 'green', 'callbacks': None, 'tags': None, 'metadata': None, 'run_name': None, 'run_id': None, 'config': None, 'tool_call_id': None}\u001b[0m\n",
      "Observation: \u001b[36;1m\u001b[1;3mA rash is any area of irritated or swollen skin. Rashes may be itchy and painful and appear differently on different skin tones. In some cases, a rash may be a sign of a medical emergency. What it looks like: Poison ivy is a type of allergic contact dermatitis that is caused by the oil (urushiol oil) in the poison ivy plant, explains Karan Lal, D.O., M.S., F.A.A.D., double board ... Allergies. Some people's eczema flares up due to allergens such as pet dander and dust mites.But lots of things can trigger eczema, including certain fabrics, soaps, and detergents. It gets its name because it presents as a red circular rash. Ringworm can occur anywhere on the body and is very itchy (athlete's foot and jock itch are types of ringworm). It's important to remember that a red circular rash can also be caused by Lyme disease. A health care provider can make sure this type of rash is properly diagnosed. Staphylococcal scalded skin syndrome (SSS) All of these diseases have one or more of the following features: The rash affects the entire body, or most of it. The rash affects both the skin and the ...\u001b[0m\n",
      "Thought:\u001b[32;1m\u001b[1;3mBased on the observation, it seems that the search results provide some information about diseases that could be associated with itching, skin rash, and nodal skin eruptions. The results mention several diseases, including poison ivy, eczema, ringworm, and Lyme disease, which can cause a rash and itching. Additionally, Staphylococcal scalded skin syndrome (SSS) is mentioned, which can cause a rash that affects the entire body.\n",
      "\n",
      "Action: DuckDuckGo Search\n",
      "Action Input: {'query': 'diseases with itching skin rash nodal skin eruptions symptoms', 'verbose': False, 'start_color': 'green', 'color': 'green', 'callbacks': None, 'tags': None, 'metadata': None, 'run_name': None, 'run_id': None, 'config': None, 'tool_call_id': None}\u001b[0m\n",
      "Observation: \u001b[36;1m\u001b[1;3mLearn about Prurigo Nodularis, including symptoms, causes, and treatments. If you or a loved one is affected by this condition, visit NORD to find resources A rash is any area of irritated or swollen skin. Rashes may be itchy and painful and appear differently on different skin tones. In some cases, a rash may be a sign of a medical emergency. It's a rare but dramatic skin problem with a relentless itch and hard lumps all over your body. Learn about prurigo nodularis and how to get relief. 30 Pictures of Common Skin Rashes and How to Identify Their Symptoms Prurigo nodularis is a condition of extremely itchy papules (small, solid bumps) or nodules (solid, raised bumps that are firm to the touch) on the skin that may have a scab from scratching or picking. The lesions range in size but are generally smaller than a thumbnail. They can enlarge slowl…\u001b[0m\n",
      "Thought:\u001b[32;1m\u001b[1;3mBased on the observation, it seems that the search results provide some information about diseases that could be associated with itching, skin rash, and nodal skin eruptions. The results mention Prurigo Nodularis, a condition characterized by extremely itchy papules or nodules on the skin, which may have a scab from scratching or picking. This condition appears to match all of the given symptoms.\n",
      "\n",
      "Thought: I now know the final answer\n",
      "Final Answer: Based on the symptoms of itching, skin rash, and nodal skin eruptions, some possible diseases that may be associated with these symptoms include Prurigo Nodularis, poison ivy, eczema, ringworm, Lyme disease, and Staphylococcal scalded skin syndrome (SSS). However, it's essential to consult a healthcare professional for a proper diagnosis and treatment.\u001b[0m\n",
      "\n",
      "\u001b[1m> Finished chain.\u001b[0m\n",
      "Based on the symptoms of itching, skin rash, and nodal skin eruptions, some possible diseases that may be associated with these symptoms include Prurigo Nodularis, poison ivy, eczema, ringworm, Lyme disease, and Staphylococcal scalded skin syndrome (SSS). However, it's essential to consult a healthcare professional for a proper diagnosis and treatment.\n"
     ]
    }
   ],
   "source": [
    "# Import necessary modules\n",
    "from langchain.agents import initialize_agent, Tool, AgentType\n",
    "from langchain_community.tools import DuckDuckGoSearchRun\n",
    "\n",
    "# Initialize DuckDuckGo search tool\n",
    "ddg_search = DuckDuckGoSearchRun()\n",
    "\n",
    "# Define the tools the agent can use\n",
    "tools = [\n",
    "    Tool(\n",
    "        name=\"DuckDuckGo Search\",\n",
    "        func=ddg_search.run,\n",
    "        description=\"Search for diseases based on symptoms using DuckDuckGo\"\n",
    "    )\n",
    "]\n",
    "\n",
    "# Initialize the agent with Zero-Shot-React-Description agent type\n",
    "agent = initialize_agent(\n",
    "    llm=llm,\n",
    "    tools=tools,\n",
    "    agent_type=AgentType.ZERO_SHOT_REACT_DESCRIPTION,\n",
    "    verbose=True\n",
    ")\n",
    "\n",
    "# Query the agent to recommend diseases based on the symptoms\n",
    "Agent_response = agent.invoke(\"What are top diseases are associated with itching, skin_rash, nodal_skin_eruptions?\")\n",
    "\n",
    "print(Agent_response['output'])"
   ]
  },
  {
   "cell_type": "markdown",
   "metadata": {},
   "source": [
    "# KG Rag response + Agentic Rag Response"
   ]
  },
  {
   "cell_type": "code",
   "execution_count": 10,
   "metadata": {},
   "outputs": [
    {
     "name": "stderr",
     "output_type": "stream",
     "text": [
      "c:\\Users\\admin\\OneDrive\\Desktop\\Symptoms_based_disease_prediction\\symp_venv\\Lib\\site-packages\\langchain_groq\\chat_models.py:364: UserWarning: WARNING! stream is not default parameter.\n",
      "                    stream was transferred to model_kwargs.\n",
      "                    Please confirm that stream is what you intended.\n",
      "  warnings.warn(\n"
     ]
    },
    {
     "name": "stdout",
     "output_type": "stream",
     "text": [
      "After refining and merging the responses, here are the results:\n",
      "\n",
      "Associated Diseases:\n",
      "1. Fungal Infection (e.g., ringworm)\n",
      "2. Prurigo Nodularis\n",
      "3. Eczema\n",
      "4. Lyme disease\n",
      "5. Staphylococcal scalded skin syndrome (SSS)\n",
      "6. Poison ivy (contact dermatitis)\n",
      "\n",
      "These diseases are associated with the symptoms of itching, skin rash, and nodal skin eruptions, prioritized based on severity and commonality.\n",
      "\n",
      "Healthy Diet:\n",
      "To manage or alleviate symptoms, consider the following dietary recommendations:\n",
      "- Consume: omega-3 rich foods (salmon, flaxseeds), probiotics (yogurt, kefir), vitamin E-rich foods (nuts, seeds), and antioxidant-rich foods (berries, leafy greens)\n",
      "- Avoid: processed foods, sugary drinks, dairy products (for some individuals with eczema or sensitive skin), and foods high in histamine (fermented foods, citrus fruits)\n",
      "\n",
      "Natural Techniques or Exercises:\n",
      "Complement medical treatment with these safe and easy natural techniques:\n",
      "- Moisturize skin regularly\n",
      "- Apply cool compresses to reduce itching\n",
      "- Practice stress-reducing exercises (yoga, meditation, deep breathing)\n",
      "- Get regular exercise (outdoor activities, walking) to improve overall health\n",
      "\n",
      "Recommended Doctor or Specialist:\n",
      "Consult a:\n",
      "- Dermatologist (skin specialist) for accurate diagnosis and treatment of skin-related conditions\n",
      "- Infectious disease specialist (for Lyme disease or fungal infections)\n",
      "- Primary care physician (for general health and referral to specialists)\n",
      "\n",
      "These recommendations aim to provide a comprehensive approach to managing symptoms and seeking medical attention. Remember, it's essential to consult a healthcare professional for a proper diagnosis and treatment plan."
     ]
    }
   ],
   "source": [
    "import os\n",
    "import re\n",
    "from langchain_groq import ChatGroq\n",
    "\n",
    "# Set your Groq API key\n",
    "os.environ[\"GROQ_API_KEY\"] = \"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\"\n",
    "\n",
    "# Initialize the ChatGroq model\n",
    "llm = ChatGroq(\n",
    "    model=\"llama-3.3-70b-versatile\",\n",
    "    temperature=1,\n",
    "    max_tokens=1024,\n",
    "    stream=True\n",
    ")\n",
    "\n",
    "# Define the conversation\n",
    "messages = [\n",
    "    (\"system\", \"You are a highly knowledgeable and detail-oriented medical assistant with the ability to critically analyze responses for errors and inconsistencies.\"),\n",
    "    (\"human\", f\"I have two sets of responses related to symptoms:\\n\"\n",
    "              f\"1. Knowledge Graph Response: {KG_response}\\n\"\n",
    "              f\"2. Web Search Response: {Agent_response}\\n\"\n",
    "              f\"\\n\"\n",
    "              f\"Please follow these steps to refine and merge the responses:\\n\"\n",
    "              f\"1. Review both responses for mistakes, inconsistencies, and redundant diseases. Ensure no disease is listed more than once and prioritize based on severity and commonality.\\n\"\n",
    "              f\"2. Suggest a healthy diet to manage or alleviate the symptoms. Include specific foods and drinks to consume and avoid.\\n\"\n",
    "              f\"3. Recommend safe and easy natural techniques or exercises that can complement medical treatment.\\n\"\n",
    "              f\"4. Specify the type of doctor or specialist to consult and provide a brief reason for each recommendation.\\n\"\n",
    "              f\"\\n\"\n",
    "              f\"After reviewing and enhancing the responses, follow these steps:\\n\"\n",
    "              f\"    1. List all (highly, medium,low) associated diseases, eliminating duplicates and prioritizing based on severity.\\n\"\n",
    "              f\"    2. Suggest a healthy diet, including specific foods to consume and avoid.\\n\"\n",
    "              f\"    3. Recommend natural techniques or exercises that are easy and safe.\\n\"\n",
    "              f\"    4. Specify the type of doctor or specialist to consult with a brief reason.\\n\"\n",
    "              f\"Ensure the response is clear, concise, and easy to understand.\"),\n",
    "]\n",
    "\n",
    "# # Generate the response\n",
    "# for chunk in llm.stream(messages):\n",
    "#     print(chunk.content, end='', flush=True)\n",
    "\n",
    "# Stream and clean markdown on the fly\n",
    "for chunk in llm.stream(messages):\n",
    "    cleaned_chunk = re.sub(r'(\\*\\*|\\*|__|_|\\[.*?\\]\\(.*?\\))', '', chunk.content)\n",
    "    print(cleaned_chunk, end='', flush=True)"
   ]
  },
  {
   "cell_type": "code",
   "execution_count": null,
   "metadata": {},
   "outputs": [],
   "source": []
  }
 ],
 "metadata": {
  "kernelspec": {
   "display_name": "symp_venv",
   "language": "python",
   "name": "python3"
  },
  "language_info": {
   "codemirror_mode": {
    "name": "ipython",
    "version": 3
   },
   "file_extension": ".py",
   "mimetype": "text/x-python",
   "name": "python",
   "nbconvert_exporter": "python",
   "pygments_lexer": "ipython3",
   "version": "3.12.7"
  }
 },
 "nbformat": 4,
 "nbformat_minor": 2
}
