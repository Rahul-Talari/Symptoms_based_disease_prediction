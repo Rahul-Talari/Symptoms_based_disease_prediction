{
 "cells": [
  {
   "cell_type": "markdown",
   "metadata": {},
   "source": [
    "**Step 1:** Create LLM Model  \n",
    "**Step 2:** Load Text File  \n",
    "**Step 3:** Perform Embeddings  \n",
    "**Step 4:** Creating Index on Embeddings   \n",
    "**Step 5:** Store Indexing in Disc  \n",
    "**Step 6:** Load Index from Disc  \n",
    "**Step 7:** Query Data Using Stored Index\n"
   ]
  },
  {
   "cell_type": "markdown",
   "metadata": {},
   "source": [
    "**Data Preprocessing**"
   ]
  },
  {
   "cell_type": "code",
   "execution_count": 7,
   "metadata": {},
   "outputs": [],
   "source": [
    "! pip install -qU pandas openpyxl"
   ]
  },
  {
   "cell_type": "code",
   "execution_count": 8,
   "metadata": {},
   "outputs": [
    {
     "name": "stdout",
     "output_type": "stream",
     "text": [
      "(304, 2)\n"
     ]
    },
    {
     "data": {
      "text/html": [
       "<div>\n",
       "<style scoped>\n",
       "    .dataframe tbody tr th:only-of-type {\n",
       "        vertical-align: middle;\n",
       "    }\n",
       "\n",
       "    .dataframe tbody tr th {\n",
       "        vertical-align: top;\n",
       "    }\n",
       "\n",
       "    .dataframe thead th {\n",
       "        text-align: right;\n",
       "    }\n",
       "</style>\n",
       "<table border=\"1\" class=\"dataframe\">\n",
       "  <thead>\n",
       "    <tr style=\"text-align: right;\">\n",
       "      <th></th>\n",
       "      <th>symptoms</th>\n",
       "      <th>prognosis</th>\n",
       "    </tr>\n",
       "  </thead>\n",
       "  <tbody>\n",
       "    <tr>\n",
       "      <th>0</th>\n",
       "      <td>itching, skin_rash, nodal_skin_eruptions, disc...</td>\n",
       "      <td>Fungal Infection</td>\n",
       "    </tr>\n",
       "    <tr>\n",
       "      <th>1</th>\n",
       "      <td>skin_rash, nodal_skin_eruptions, dischromic _p...</td>\n",
       "      <td>Fungal Infection</td>\n",
       "    </tr>\n",
       "  </tbody>\n",
       "</table>\n",
       "</div>"
      ],
      "text/plain": [
       "                                            symptoms         prognosis\n",
       "0  itching, skin_rash, nodal_skin_eruptions, disc...  Fungal Infection\n",
       "1  skin_rash, nodal_skin_eruptions, dischromic _p...  Fungal Infection"
      ]
     },
     "execution_count": 8,
     "metadata": {},
     "output_type": "execute_result"
    }
   ],
   "source": [
    "import pandas as pd\n",
    "\n",
    "df=pd.read_csv('C:/Users/admin/OneDrive/Desktop/Symptoms_based_disease_prediction/Datasets/preprocessed_data.csv')\n",
    "print(df.shape)\n",
    "df.head(2)"
   ]
  },
  {
   "cell_type": "code",
   "execution_count": 9,
   "metadata": {},
   "outputs": [
    {
     "data": {
      "text/html": [
       "<div>\n",
       "<style scoped>\n",
       "    .dataframe tbody tr th:only-of-type {\n",
       "        vertical-align: middle;\n",
       "    }\n",
       "\n",
       "    .dataframe tbody tr th {\n",
       "        vertical-align: top;\n",
       "    }\n",
       "\n",
       "    .dataframe thead th {\n",
       "        text-align: right;\n",
       "    }\n",
       "</style>\n",
       "<table border=\"1\" class=\"dataframe\">\n",
       "  <thead>\n",
       "    <tr style=\"text-align: right;\">\n",
       "      <th></th>\n",
       "      <th>symptoms</th>\n",
       "      <th>prognosis</th>\n",
       "      <th>symptoms based disease prediction</th>\n",
       "    </tr>\n",
       "  </thead>\n",
       "  <tbody>\n",
       "    <tr>\n",
       "      <th>0</th>\n",
       "      <td>symptoms : itching, skin_rash, nodal_skin_erup...</td>\n",
       "      <td>prognosis : Fungal Infection</td>\n",
       "      <td>symptoms : itching, skin_rash, nodal_skin_erup...</td>\n",
       "    </tr>\n",
       "    <tr>\n",
       "      <th>1</th>\n",
       "      <td>symptoms : skin_rash, nodal_skin_eruptions, di...</td>\n",
       "      <td>prognosis : Fungal Infection</td>\n",
       "      <td>symptoms : skin_rash, nodal_skin_eruptions, di...</td>\n",
       "    </tr>\n",
       "    <tr>\n",
       "      <th>2</th>\n",
       "      <td>symptoms : itching, nodal_skin_eruptions, disc...</td>\n",
       "      <td>prognosis : Fungal Infection</td>\n",
       "      <td>symptoms : itching, nodal_skin_eruptions, disc...</td>\n",
       "    </tr>\n",
       "    <tr>\n",
       "      <th>3</th>\n",
       "      <td>symptoms : itching, skin_rash, dischromic _pat...</td>\n",
       "      <td>prognosis : Fungal Infection</td>\n",
       "      <td>symptoms : itching, skin_rash, dischromic _pat...</td>\n",
       "    </tr>\n",
       "    <tr>\n",
       "      <th>4</th>\n",
       "      <td>symptoms : itching, skin_rash, nodal_skin_erup...</td>\n",
       "      <td>prognosis : Fungal Infection</td>\n",
       "      <td>symptoms : itching, skin_rash, nodal_skin_erup...</td>\n",
       "    </tr>\n",
       "  </tbody>\n",
       "</table>\n",
       "</div>"
      ],
      "text/plain": [
       "                                            symptoms  \\\n",
       "0  symptoms : itching, skin_rash, nodal_skin_erup...   \n",
       "1  symptoms : skin_rash, nodal_skin_eruptions, di...   \n",
       "2  symptoms : itching, nodal_skin_eruptions, disc...   \n",
       "3  symptoms : itching, skin_rash, dischromic _pat...   \n",
       "4  symptoms : itching, skin_rash, nodal_skin_erup...   \n",
       "\n",
       "                      prognosis  \\\n",
       "0  prognosis : Fungal Infection   \n",
       "1  prognosis : Fungal Infection   \n",
       "2  prognosis : Fungal Infection   \n",
       "3  prognosis : Fungal Infection   \n",
       "4  prognosis : Fungal Infection   \n",
       "\n",
       "                   symptoms based disease prediction  \n",
       "0  symptoms : itching, skin_rash, nodal_skin_erup...  \n",
       "1  symptoms : skin_rash, nodal_skin_eruptions, di...  \n",
       "2  symptoms : itching, nodal_skin_eruptions, disc...  \n",
       "3  symptoms : itching, skin_rash, dischromic _pat...  \n",
       "4  symptoms : itching, skin_rash, nodal_skin_erup...  "
      ]
     },
     "execution_count": 9,
     "metadata": {},
     "output_type": "execute_result"
    }
   ],
   "source": [
    "df['symptoms']='symptoms : '+df['symptoms']\n",
    "df['prognosis']='prognosis : '+df['prognosis']\n",
    "df['symptoms based disease prediction']=df['symptoms']+\" -> \"+df['prognosis']\n",
    "df.head()"
   ]
  },
  {
   "cell_type": "code",
   "execution_count": 10,
   "metadata": {},
   "outputs": [],
   "source": [
    "# Assuming 'df' is your DataFrame and 'symptoms based disease prediction' is the column you want to convert\n",
    "df['symptoms based disease prediction'].to_csv('C:/Users/admin/OneDrive/Desktop/Symptoms_based_disease_prediction/Datasets/symptoms_disease_prediction.txt', index=False, header=False)"
   ]
  },
  {
   "cell_type": "markdown",
   "metadata": {},
   "source": [
    "**Step:1**"
   ]
  },
  {
   "cell_type": "code",
   "execution_count": 3,
   "metadata": {},
   "outputs": [
    {
     "name": "stderr",
     "output_type": "stream",
     "text": [
      "\u001b[?25lpulling manifest ⠋ \u001b[?25h\u001b[?25l\u001b[2K\u001b[1Gpulling manifest ⠙ \u001b[?25h\u001b[?25l\u001b[2K\u001b[1Gpulling manifest ⠹ \u001b[?25h\u001b[?25l\u001b[2K\u001b[1Gpulling manifest ⠸ \u001b[?25h\u001b[?25l\u001b[2K\u001b[1Gpulling manifest ⠼ \u001b[?25h\u001b[?25l\u001b[2K\u001b[1Gpulling manifest ⠴ \u001b[?25h\u001b[?25l\u001b[2K\u001b[1Gpulling manifest ⠦ \u001b[?25h\u001b[?25l\u001b[2K\u001b[1Gpulling manifest ⠧ \u001b[?25h\u001b[?25l\u001b[2K\u001b[1Gpulling manifest ⠇ \u001b[?25h\u001b[?25l\u001b[2K\u001b[1Gpulling manifest ⠏ \u001b[?25h\u001b[?25l\u001b[2K\u001b[1Gpulling manifest ⠋ \u001b[?25h\u001b[?25l\u001b[2K\u001b[1Gpulling manifest \n",
      "pulling 970aa74c0a90... 100% ▕████████████████▏ 274 MB                         \n",
      "pulling c71d239df917... 100% ▕████████████████▏  11 KB                         \n",
      "pulling ce4a164fc046... 100% ▕████████████████▏   17 B                         \n",
      "pulling 31df23ea7daa... 100% ▕████████████████▏  420 B                         \n",
      "verifying sha256 digest \n",
      "writing manifest \n",
      "success \u001b[?25h\n"
     ]
    }
   ],
   "source": [
    "# cmd:\n",
    "# >>ollama run nomic-embed-text\n",
    "! ollama pull nomic-embed-text\n",
    "! pip install -qU langchain-ollama llama-index llama-index-embeddings-langchain  llama-index-llms-langchain"
   ]
  },
  {
   "cell_type": "markdown",
   "metadata": {},
   "source": [
    "**Step:2,3**"
   ]
  },
  {
   "cell_type": "code",
   "execution_count": 4,
   "metadata": {},
   "outputs": [],
   "source": [
    "from langchain_ollama import OllamaEmbeddings\n",
    "from llama_index.core import Document, VectorStoreIndex\n",
    "\n",
    "# Initialize embedding model and list to store embedded documents\n",
    "embed = OllamaEmbeddings(model=\"nomic-embed-text\")\n",
    "embedded_documents = []\n",
    "\n",
    "# Read the file and embed each line\n",
    "file_path = \"C:/Users/admin/OneDrive/Desktop/Symptoms_based_disease_prediction/Datasets/symptoms_disease_prediction.txt\"\n",
    "with open(file_path, encoding='utf-8') as file:\n",
    "    for line in file:\n",
    "        line = line.strip()  # Remove extra whitespace\n",
    "        if line:\n",
    "            embedding = embed.embed_query(line)  # Get embedding\n",
    "            embedded_documents.append(Document(text=line, embedding=embedding))  # Add to list"
   ]
  },
  {
   "cell_type": "markdown",
   "metadata": {},
   "source": [
    "**Step4:**"
   ]
  },
  {
   "cell_type": "code",
   "execution_count": 5,
   "metadata": {},
   "outputs": [],
   "source": [
    "# Create the vector store index from the embedded documents\n",
    "index = VectorStoreIndex.from_documents(embedded_documents,embed_model=embed)"
   ]
  },
  {
   "cell_type": "markdown",
   "metadata": {},
   "source": [
    "**Step5:**"
   ]
  },
  {
   "cell_type": "code",
   "execution_count": 6,
   "metadata": {},
   "outputs": [],
   "source": [
    "# Save the index to a local directory (optional)\n",
    "path=\"C:/Users/admin/OneDrive/Desktop/Symptoms_based_disease_prediction/Datasets/vector db\"\n",
    "index.storage_context.persist(persist_dir=\"path\")"
   ]
  },
  {
   "cell_type": "markdown",
   "metadata": {},
   "source": [
    "**Step6:**"
   ]
  },
  {
   "cell_type": "code",
   "execution_count": 7,
   "metadata": {},
   "outputs": [],
   "source": [
    "#Load indexing\n",
    "from llama_index.core import StorageContext, load_index_from_storage\n",
    "\n",
    "StorageContext=StorageContext.from_defaults(persist_dir=\"path\")\n",
    "load_index=load_index_from_storage(StorageContext,embed_model=embed)"
   ]
  },
  {
   "cell_type": "markdown",
   "metadata": {},
   "source": [
    "**Step7:**"
   ]
  },
  {
   "cell_type": "code",
   "execution_count": 9,
   "metadata": {},
   "outputs": [
    {
     "name": "stdout",
     "output_type": "stream",
     "text": [
      "Urinary Tract Infection.\n"
     ]
    }
   ],
   "source": [
    "import os\n",
    "from langchain_groq import ChatGroq\n",
    "\n",
    "os.environ[\"GROQ_API_KEY\"] = \"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\"\n",
    "llm = ChatGroq(model=\"llama-3.3-70b-versatile\")\n",
    "\n",
    "query_engine = load_index.as_query_engine(llm=llm)\n",
    "Query=\"What are diseases associated with this symptoms burning_micturition, bladder_discomfort, continuous_feel_of_urine ?\"\n",
    "vector_db_response= query_engine.query(Query)\n",
    "print(vector_db_response)"
   ]
  },
  {
   "cell_type": "markdown",
   "metadata": {},
   "source": [
    "### Agentic AI"
   ]
  },
  {
   "cell_type": "code",
   "execution_count": 17,
   "metadata": {},
   "outputs": [
    {
     "name": "stdout",
     "output_type": "stream",
     "text": [
      "\n",
      "\n",
      "\u001b[1m> Entering new AgentExecutor chain...\u001b[0m\n"
     ]
    },
    {
     "name": "stderr",
     "output_type": "stream",
     "text": [
      "C:\\Users\\admin\\AppData\\Local\\Temp\\ipykernel_12308\\893632410.py:18: LangChainDeprecationWarning: LangChain agents will continue to be supported, but it is recommended for new use cases to be built with LangGraph. LangGraph offers a more flexible and full-featured framework for building agents, including support for tool-calling, persistence of state, and human-in-the-loop workflows. For details, refer to the `LangGraph documentation <https://langchain-ai.github.io/langgraph/>`_ as well as guides for `Migrating from AgentExecutor <https://python.langchain.com/docs/how_to/migrate_agent/>`_ and LangGraph's `Pre-built ReAct agent <https://langchain-ai.github.io/langgraph/how-tos/create-react-agent/>`_.\n",
      "  agent = initialize_agent(\n"
     ]
    },
    {
     "name": "stdout",
     "output_type": "stream",
     "text": [
      "\u001b[32;1m\u001b[1;3mTo find the top diseases associated with itching, skin_rash, and nodal_skin_eruptions, I should use the DuckDuckGo Search tool to search for diseases based on these symptoms.\n",
      "\n",
      "Action: DuckDuckGo Search\n",
      "Action Input: {'symptoms': ['itching', 'skin_rash', 'nodal_skin_eruptions']}\n",
      "\u001b[0m\n",
      "Observation: \u001b[36;1m\u001b[1;3mSkin discoloration is a common rash symptom, which can present differently on different skin tones. Rashes may appear red or pink on lighter skin tones, while on darker skin tones they may be ... From eczema to allergic reactions to bug bites, here's what common skin rashes look like in photos, and the symptoms that can help you I.D. the condition. Learn how in some cases, persistent itchiness accompanied by other symptoms can be a sign of underlying conditions like diabetes, kidney disease or chronic liver disease. In most adults, a rash can be mild and resolve on its own. But if you have other symptoms, such as fever, pain, or a rash that spreads, you may need urgent medical care. Out of more than 3,000 skin diseases, how do you know what condition you have? These 23 skin rash pictures and expert tips can help you decipher your skin.\u001b[0m\n",
      "Thought:\u001b[32;1m\u001b[1;3mThought: The initial search results provide general information about skin rashes and their potential causes, but they do not specifically identify the top diseases associated with itching, skin_rash, and nodal_skin_eruptions. To get more targeted results, I should try refining my search query to include more specific keywords or phrases related to these symptoms.\n",
      "\n",
      "Action: DuckDuckGo Search\n",
      "Action Input: {'symptoms': ['itching', 'skin_rash', 'nodal_skin_eruptions'], 'keywords': ['diseases', 'conditions', 'causes']}\n",
      "\u001b[0m\n",
      "Observation: \u001b[36;1m\u001b[1;3ma rash that appears red, skin-colored, or darker than the natural skin color a rash that spreads from the face down the body 3-5 days after the first symptoms appear tiny white spots with bluish ... What it looks like: Medically known as atopic dermatitis, eczema is an umbrella term for a range of skin conditions characterized by red, splotchy, dry, cracked, crusty, or flaky skin, that can ... Causes of itchy skin include: Skin conditions. Examples include dry skin (xerosis), eczema (dermatitis), psoriasis, scabies, parasites, burns, scars, insect bites and hives. Internal diseases. Itching on the whole body might be a symptom of an underlying illness, such as liver disease, kidney disease, anemia, diabetes, thyroid problems and ... Skin rashes can happen for many reasons, from insect bites, allergies, and medications to autoimmune disorders, HIV, and various skin infections. Rashes have many different appearances. Many will resolve on their own or with at-home treatments, including gentle cleaning, avoiding further irritation, and applying a topical medicated lotion. Psoriasis, another inflammatory condition that dermatologists see frequently, is known to causes scaly, itchy areas of thickened skin called plaques that can look like rashes.\u001b[0m\n",
      "Thought:\u001b[32;1m\u001b[1;3mBased on the search results, I can see that there are several diseases and conditions associated with itching, skin_rash, and nodal_skin_eruptions. However, the results are still quite general and do not provide a clear ranking of the top diseases associated with these symptoms. To get a more specific answer, I should try to refine my search query again to include more specific keywords or phrases related to these symptoms.\n",
      "\n",
      "Action: DuckDuckGo Search\n",
      "Action Input: {'symptoms': ['itching', 'skin_rash', 'nodal_skin_eruptions'], 'keywords': ['top diseases', 'common conditions', 'associated with']}\n",
      "\u001b[0m\n",
      "Observation: \u001b[36;1m\u001b[1;3mmanifests with common symptoms like facial flushing, raised red bumps, facial redness, skin dryness, and skin sensitivity appears as brown or yellowish-brown bumps on darker skin or have a dusky ... data_dict['symptom_index'] contains a dictionary of symptom names as keys and their index position in the symptoms list but the key name is different from the name in the symptoms list. The names of the symptom keys contain space instead of underscore in the symptoms list. That is why the key is not found. Try: Other symptoms to note: Drug rashes can be a side effect of or a reaction to a new medication; almost any medication can cause a drug rash, but antibiotics and NSAIDs are the most common culprits ... Eczema is a blanket term for several non-contagious conditions that cause inflamed, red, dry, and itchy skin. Doctors aren't sure what makes eczema start in the first place, but they do know that ... Itchy skin is an irritating sensation that makes you want to scratch. It's also called pruritus (proo-RIE-tus). Itchy skin is often caused by dry skin and is common in older adults, as skin tends to become drier with age. Depending on the cause of your itchiness, your skin may look no different than usual or it may be inflamed, rough or have bumps.\u001b[0m\n",
      "Thought:\u001b[32;1m\u001b[1;3mI now know the final answer.\n",
      "\n",
      "Final Answer: The top diseases associated with itching, skin_rash, and nodal_skin_eruptions include eczema (atopic dermatitis), psoriasis, drug rashes, and other skin conditions such as dry skin (xerosis), scabies, and parasitic infections. Additionally, internal diseases like liver disease, kidney disease, anemia, diabetes, and thyroid problems can also cause itchy skin. However, it's essential to note that a definitive diagnosis requires a medical professional's evaluation, as the symptoms can be similar to many other conditions.\u001b[0m\n",
      "\n",
      "\u001b[1m> Finished chain.\u001b[0m\n",
      "The top diseases associated with itching, skin_rash, and nodal_skin_eruptions include eczema (atopic dermatitis), psoriasis, drug rashes, and other skin conditions such as dry skin (xerosis), scabies, and parasitic infections. Additionally, internal diseases like liver disease, kidney disease, anemia, diabetes, and thyroid problems can also cause itchy skin. However, it's essential to note that a definitive diagnosis requires a medical professional's evaluation, as the symptoms can be similar to many other conditions.\n"
     ]
    }
   ],
   "source": [
    "# Import necessary modules\n",
    "from langchain.agents import initialize_agent, Tool, AgentType\n",
    "from langchain_community.tools import DuckDuckGoSearchRun\n",
    "\n",
    "# Initialize DuckDuckGo search tool\n",
    "ddg_search = DuckDuckGoSearchRun()\n",
    "\n",
    "# Define the tools the agent can use\n",
    "tools = [\n",
    "    Tool(\n",
    "        name=\"DuckDuckGo Search\",\n",
    "        func=ddg_search.run,\n",
    "        description=\"Search for diseases based on symptoms using DuckDuckGo\"\n",
    "    )\n",
    "]\n",
    "\n",
    "# Initialize the agent with Zero-Shot-React-Description agent type\n",
    "agent = initialize_agent(\n",
    "    llm=llm,\n",
    "    tools=tools,\n",
    "    agent_type=AgentType.ZERO_SHOT_REACT_DESCRIPTION,\n",
    "    verbose=True\n",
    ")\n",
    "\n",
    "\n",
    "# Query the agent to recommend diseases based on the symptoms\n",
    "Agent_response = agent.invoke(\"What are top diseases are associated with itching, skin_rash, nodal_skin_eruptions?\")\n",
    "\n",
    "print(Agent_response['output'])"
   ]
  },
  {
   "cell_type": "markdown",
   "metadata": {},
   "source": [
    "### Vector DB + Agentic Response"
   ]
  },
  {
   "cell_type": "code",
   "execution_count": 19,
   "metadata": {},
   "outputs": [
    {
     "name": "stderr",
     "output_type": "stream",
     "text": [
      "c:\\Users\\admin\\OneDrive\\Desktop\\Symptoms_based_disease_prediction\\symp_venv\\Lib\\site-packages\\langchain_groq\\chat_models.py:364: UserWarning: WARNING! stream is not default parameter.\n",
      "                    stream was transferred to model_kwargs.\n",
      "                    Please confirm that stream is what you intended.\n",
      "  warnings.warn(\n"
     ]
    },
    {
     "name": "stdout",
     "output_type": "stream",
     "text": [
      "Refined and Merged Response:\n",
      "\n",
      "After reviewing both responses, I have refined and merged the information to provide a comprehensive answer.\n",
      "\n",
      "1. Associated Diseases:\n",
      "Based on the symptoms of itching, skin rash, and nodal skin eruptions, the following diseases are associated, listed in order of severity and commonality:\n",
      "- High: Eczema (atopic dermatitis), Psoriasis, Fungal Infection\n",
      "- Medium: Scabies, Parasitic infections, Drug rashes\n",
      "- Low: Dry skin (xerosis), Anemia, Diabetes, Thyroid problems, Liver disease, Kidney disease\n",
      "\n",
      "2. Healthy Diet:\n",
      "To manage or alleviate the symptoms, a healthy diet is essential. The following foods and drinks are recommended:\n",
      "- Consume: Fatty fish (rich in omega-3 fatty acids), Leafy greens (rich in antioxidants), Berries (rich in antioxidants), Whole grains, Probiotic-rich foods (yogurt, kefir)\n",
      "- Avoid: Processed foods, Sugary drinks, Dairy products (if lactose intolerant), Spicy or acidic foods\n",
      "\n",
      "3. Natural Techniques or Exercises:\n",
      "Safe and easy natural techniques that can complement medical treatment include:\n",
      "- Moisturizing the skin regularly\n",
      "- Applying cool compresses to reduce itching\n",
      "- Practicing stress-reducing techniques (meditation, yoga)\n",
      "- Getting regular exercise (to improve overall health)\n",
      "\n",
      "4. Doctor or Specialist to Consult:\n",
      "It is recommended to consult a:\n",
      "- Dermatologist (for skin-related issues and diagnoses)\n",
      "- Primary Care Physician (for overall health evaluation and internal disease diagnosis)\n",
      "- Allergist (if allergic reactions are suspected)\n",
      "\n",
      "These recommendations provide a comprehensive approach to managing symptoms and seeking medical attention. Remember, a definitive diagnosis requires a medical professional's evaluation."
     ]
    }
   ],
   "source": [
    "import os\n",
    "import re\n",
    "from langchain_groq import ChatGroq\n",
    "\n",
    "# Set your Groq API key\n",
    "os.environ[\"GROQ_API_KEY\"] = \"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\"\n",
    "\n",
    "# Initialize the ChatGroq model\n",
    "llm = ChatGroq(\n",
    "    model=\"llama-3.3-70b-versatile\",\n",
    "    temperature=1,\n",
    "    max_tokens=1024,\n",
    "    stream=True\n",
    ")\n",
    "\n",
    "# Define the conversation\n",
    "messages = [\n",
    "    (\"system\", \"You are a highly knowledgeable and detail-oriented medical assistant with the ability to critically analyze responses for errors and inconsistencies.\"),\n",
    "    (\"human\", f\"I have two sets of responses related to symptoms:\\n\"\n",
    "              f\"1. Knowledge Graph Response: {vector_db_response}\\n\"\n",
    "              f\"2. Web Search Response: {Agent_response}\\n\"\n",
    "              f\"\\n\"\n",
    "              f\"Please follow these steps to refine and merge the responses:\\n\"\n",
    "              f\"1. Review both responses for mistakes, inconsistencies, and redundant diseases. Ensure no disease is listed more than once and prioritize based on severity and commonality.\\n\"\n",
    "              f\"2. Suggest a healthy diet to manage or alleviate the symptoms. Include specific foods and drinks to consume and avoid.\\n\"\n",
    "              f\"3. Recommend safe and easy natural techniques or exercises that can complement medical treatment.\\n\"\n",
    "              f\"4. Specify the type of doctor or specialist to consult and provide a brief reason for each recommendation.\\n\"\n",
    "              f\"\\n\"\n",
    "              f\"After reviewing and enhancing the responses, follow these steps:\\n\"\n",
    "              f\"    1. List all (highly, medium,low) associated diseases, eliminating duplicates and prioritizing based on severity.\\n\"\n",
    "              f\"    2. Suggest a healthy diet, including specific foods to consume and avoid.\\n\"\n",
    "              f\"    3. Recommend natural techniques or exercises that are easy and safe.\\n\"\n",
    "              f\"    4. Specify the type of doctor or specialist to consult with a brief reason.\\n\"\n",
    "              f\"Ensure the response is clear, concise, and easy to understand.\"),\n",
    "]\n",
    "\n",
    "\n",
    "# Stream and clean markdown on the fly\n",
    "for chunk in llm.stream(messages):\n",
    "    cleaned_chunk = re.sub(r'(\\*\\*|\\*|__|_|\\[.*?\\]\\(.*?\\))', '', chunk.content)\n",
    "    print(cleaned_chunk, end='', flush=True)"
   ]
  },
  {
   "cell_type": "code",
   "execution_count": null,
   "metadata": {},
   "outputs": [],
   "source": []
  }
 ],
 "metadata": {
  "kernelspec": {
   "display_name": "symp_venv",
   "language": "python",
   "name": "python3"
  },
  "language_info": {
   "codemirror_mode": {
    "name": "ipython",
    "version": 3
   },
   "file_extension": ".py",
   "mimetype": "text/x-python",
   "name": "python",
   "nbconvert_exporter": "python",
   "pygments_lexer": "ipython3",
   "version": "3.12.7"
  }
 },
 "nbformat": 4,
 "nbformat_minor": 2
}
